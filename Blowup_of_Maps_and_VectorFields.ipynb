{
 "cells": [
  {
   "cell_type": "markdown",
   "metadata": {},
   "source": [
    "## Blowup of Maps\n",
    "\n",
    "We define the class `SelfMap` which allows to create a germ of endomorphism of K^n, for some field K; we can change variables to center them around a different point or by conjugating with a linear map.\n",
    "\n",
    "The methods `blowup` and `blowup_ax` allow to blow-up a point or an affine subspace whose direction is given by some of the variables equal to 0.\n",
    "\n",
    "We can compute the series expansion around a point and print it in a user-friendly way, in case the map is tangent to the identity."
   ]
  },
  {
   "cell_type": "code",
   "execution_count": 1,
   "metadata": {},
   "outputs": [],
   "source": [
    "class SelfMap:\n",
    "    def __init__(self,comps,varb,params=None, inplace=False, base_field=QQ, ttti=True, degree_offset=2):\n",
    "        self.nvars=len(varb)\n",
    "        self.variables=varb\n",
    "        self.comps=comps\n",
    "        self.inplace=inplace\n",
    "        self.params=params\n",
    "        self.base_field=base_field\n",
    "        if self.params is None:\n",
    "            self.AusRing=self.base_field\n",
    "            self.AusField=self.base_field\n",
    "        else:\n",
    "            self.AusRing=PolynomialRing(self.base_field,self.params)\n",
    "            self.AusField=FractionField(self.AusRing)\n",
    "            \n",
    "        self.PolRing=PolynomialRing(self.AusField,self.variables)\n",
    "        self.ttti=ttti\n",
    "        self.degree_offset=degree_offset\n",
    "        \n",
    "    def get_first_hom(self, center=None):\n",
    "        if center is None:\n",
    "            center=[0]*self.nvars\n",
    "        H=self.translate(center, inplace=False)    \n",
    "        if self.ttti:\n",
    "            i=2\n",
    "            start=[(g-v).taylor(*zip(self.variables,[0]*self.nvars),i) for g,v in zip(H, self.variables)]\n",
    "            while not set([i]).issubset(set([self.PolRing(s).degree() for s in start])):\n",
    "                i+=1\n",
    "                start=[(g-v).taylor(*zip(self.variables,[0]*self.nvars),i) for g,v in zip(H, self.variables)]\n",
    "            return i,start\n",
    "        else:\n",
    "            i=0\n",
    "            start=[g.taylor(*zip(self.variables,[0]*self.nvars),i) for g in H]\n",
    "            while start==[0]*self.nvars:\n",
    "                i+=1\n",
    "                start=[g.taylor(*zip(self.variables,[0]*self.nvars),i) for g in H]\n",
    "            return i,start\n",
    "    \n",
    "    def translate(self,center, inplace=None,out_map=False):\n",
    "        if inplace is None:\n",
    "            inplace=self.inplace\n",
    "        if center==[0]*self.nvars:\n",
    "            return self.comps\n",
    "        coord_change=dict([(v,v+c) for (v,c) in zip(self.variables,center)])\n",
    "        if (inplace and (not out_map)):\n",
    "            self.comps=[f.subs(coord_change)-c for (f,c) in zip(self.comps, center)]\n",
    "            \n",
    "            return self.comps\n",
    "        elif (inplace and out_map):\n",
    "            self.comps=[f.subs(coord_change)-c for (f,c) in zip(self.comps, center)]\n",
    "        \n",
    "            return SelfMap(self.comps,self.variables, params=self.params,inplace=self.inplace,base_field=self.base_field,ttti=self.ttti,degree_offset=self.degree_offset)\n",
    "        elif ((not inplace) and (not out_map)):\n",
    "            return [f.subs(coord_change)-c for (f,c) in zip(self.comps, center)]\n",
    "        else:\n",
    "            return SelfMap([f.subs(coord_change)-c for (f,c) in zip(self.comps, center)],self.variables,params=self.params,\n",
    "                       inplace=self.inplace,base_field=self.base_field,ttti=self.ttti,degree_offset=self.degree_offset)\n",
    "        \n",
    "    \n",
    "    \n",
    "    def blowup(self,center,chart,inplace=None,out_map=False):\n",
    "        if inplace is None:\n",
    "            inplace=self.inplace\n",
    "        shifted=self.translate(center, inplace=False)\n",
    "        coord_change=dict([(v,v if v==self.variables[chart-1] else v*self.variables[chart-1]) for v in self.variables])\n",
    "        denom=shifted[chart-1].subs(coord_change)\n",
    "        if (inplace and (not out_map)):\n",
    "            self.comps=[denom if j==chart else g.subs(coord_change)/denom \n",
    "                        for (g,j) in zip(shifted,list(range(1,self.nvars+1)))]\n",
    "            \n",
    "            return self.comps\n",
    "        elif (inplace and out_map):\n",
    "            self.comps=[denom if j==chart else g.subs(coord_change)/denom \n",
    "                        for (g,j) in zip(shifted,list(range(1,self.nvars+1)))]\n",
    "            \n",
    "            return SelfMap(self.comps, self.variables,params=self.params,inplace=self.inplace,\n",
    "                           base_field=self.base_field,ttti=self.ttti,degree_offset=self.degree_offset)\n",
    "        elif ((not inplace) and (not out_map)):\n",
    "            return [denom if j==chart else g.subs(coord_change)/denom \n",
    "                    for (g,j) in zip(shifted,list(range(1,self.nvars+1)))]\n",
    "        else:\n",
    "            return SelfMap([denom if j==chart else g.subs(coord_change)/denom \n",
    "                        for (g,j) in zip(shifted,list(range(1,self.nvars+1)))], self.variables,params=self.params,\n",
    "                       inplace=self.inplace,base_field=self.base_field,ttti=self.ttti,degree_offset=self.degree_offset)\n",
    "    \n",
    "    \n",
    "    def blowup_ax(self,center, ax,chart,inplace=None,out_map=False):\n",
    "        if inplace is None:\n",
    "            inplace=self.inplace\n",
    "        shifted=self.translate(center, inplace=False)\n",
    "        coord_change=dict([(v,v if (j+1 in ax+[chart]) else v*self.variables[chart-1]) \n",
    "                           for (v,j) in zip(self.variables, list(range(self.nvars)))])\n",
    "        denom=shifted[chart-1].subs(coord_change)\n",
    "        if (inplace and (not out_map)):\n",
    "            self.comps=[g.subs(coord_change) if (j+1 in ax+[chart]) else g.subs(coord_change)/denom for (g,j) in\n",
    "                        zip(shifted,list(range(self.nvars)))]\n",
    "            \n",
    "            return self.comps\n",
    "        elif (inplace and out_map):\n",
    "            self.comps=[g.subs(coord_change) if (j+1 in ax+[chart]) else g.subs(coord_change)/denom for (g,j) in \n",
    "                        zip(shifted,list(range(self.nvars)))]\n",
    "            \n",
    "            return SelfMap(self.comps,self.variables, params=self.params,inplace=self.inplace,base_field=self.base_field,ttti=self.ttti,degree_offset=self.degree_offset)\n",
    "        elif ((not inplace) and (not out_map)):\n",
    "            return [g.subs(coord_change) if (j+1 in ax+[chart]) else g.subs(coord_change)/denom for (g,j) in \n",
    "                    zip(shifted,list(range(self.nvars)))]\n",
    "        else:\n",
    "            return SelfMap([g.subs(coord_change) if (j+1 in ax+[chart]) else g.subs(coord_change)/denom for (g,j) in \n",
    "                            zip(shifted,list(range(self.nvars)))], self.variables,params=self.params,\n",
    "                           inplace=self.inplace,base_field=self.base_field,ttti=self.ttti,\n",
    "                           degree_offset=self.degree_offset)\n",
    "    \n",
    "    \n",
    "    def lin_change(self, center, change, inplace=None,out_map=False):\n",
    "        if inplace is None:\n",
    "            inplace=self.inplace\n",
    "        shifted=self.translate(center, inplace=False)\n",
    "        conj_change=Matrix(change).inverse()\n",
    "        coord_change=dict(zip(self.variables, list(Matrix(change)*vector(self.variables))))\n",
    "        if (inplace and (not out_map)):\n",
    "            self.comps=list(conj_change*vector([c.subs(coord_change) for c in self.comps]))\n",
    "            \n",
    "            return self.comps\n",
    "        elif (inplace and out_map):\n",
    "            self.comps=list(conj_change*vector([c.subs(coord_change) for c in self.comps]))\n",
    "            \n",
    "            return SelfMap(self.comps,self.variables, params=self.params,inplace=self.inplace,base_field=self.base_field,ttti=self.ttti,degree_offset=self.degree_offset)\n",
    "        elif ((not inplace) and (not out_map)):\n",
    "            return list(conj_change*vector([c.subs(coord_change) for c in self.comps]))\n",
    "        else:\n",
    "            return SelfMap(list(conj_change*vector([c.subs(coord_change) for c in self.comps])),self.variables,params=self.params,inplace=self.inplace,base_field=self.base_field,ttti=self.ttti,degree_offset=self.degree_offset)\n",
    "     \n",
    "    def expansion(self, center, order):\n",
    "        H=self.translate(center, inplace=False)\n",
    "        return [c.taylor(*zip(self.variables,[0]*self.nvars), order) for c in H]\n",
    "    \n",
    "    def exp_by_deg(self, center, order):\n",
    "        exp=self.expansion(center, order)\n",
    "        H=[]\n",
    "        for f in exp:\n",
    "            g=self.PolRing(f)\n",
    "            d = [0 for j in range(order+1)]\n",
    "            for coeff,monom in g:\n",
    "                if monom.degree()<order+1:\n",
    "                    d[monom.degree()] += coeff * monom\n",
    "                else:\n",
    "                    break\n",
    "            H.append(d)\n",
    "        return H\n",
    "    \n",
    "    def ttti_exp(self,center, order,sep_fact=False):\n",
    "        exp=self.expansion(center, order)\n",
    "        H=[]\n",
    "        cftot=[]\n",
    "        cf=0\n",
    "        for f in exp:\n",
    "            if sep_fact:\n",
    "                cf=0\n",
    "            g=self.PolRing(f)\n",
    "            d = [0 for j in range(order+1)]\n",
    "            for coeff,monom in g:\n",
    "                if monom.degree()<order+1:\n",
    "                    d[monom.degree()] += coeff * monom\n",
    "                    if monom.degree()>1:\n",
    "                        cf=cf.gcd(monom)\n",
    "                else:\n",
    "                    break\n",
    "            H.append(d)\n",
    "            cftot.append(cf)\n",
    "        if sep_fact:\n",
    "            return cftot, H\n",
    "        else:\n",
    "            return [cftot[2]]*3,H\n",
    "        \n",
    "    def print_ttti_exp(self,center, order, out_exp=False, sep_fact=False, rem_fact=False):\n",
    "        cftot, H=self.ttti_exp(center, order,sep_fact)\n",
    "        print('*** Expansion around the point '+str(center)+' up to order '+str(order)+'\\n')\n",
    "        for (cf,h) in zip(cftot,H):\n",
    "            component=str(h[1])+' + '+str(cf)+' * ('\n",
    "            offset=len(component)\n",
    "            for e in h[2:]:\n",
    "                if not e==0:\n",
    "                    add=str((self.PolRing(e/cf)))\n",
    "                    if (component[-1]=='(' and add[0]=='-'):\n",
    "                        component+=' - '+add[1:]\n",
    "                    elif component[-1]=='(':\n",
    "                        component+='   '+add\n",
    "                    elif (add[0]=='+' or add[0]=='-'):\n",
    "                        component+=' '+add[0]+' '+add[1:]\n",
    "                    else:\n",
    "                        component+=' + '+add\n",
    "                    component+='\\n'+(' '*offset)\n",
    "            component+=' + ... )'\n",
    "            print(component)\n",
    "        if rem_fact:\n",
    "            print('\\n\\n*** Common factor of terms from degree '+str([c.degree()+3 for c in cftot])+' by component')\n",
    "            print('*** Excluding the common factors '+str(cftot)+'\\n')\n",
    "            for cf,h in zip(cftot,H):\n",
    "                cfr=0\n",
    "                for e in h[cf.degree()+3:]:\n",
    "                    cfr=cfr.gcd(e)\n",
    "                print('In the '+str(h[1])+' component: '+str(self.PolRing(cfr/cf)))\n",
    "        if out_exp:\n",
    "            return cftot,H\n",
    "        else:\n",
    "            return\n",
    "    \n",
    "    def get_sat_first_hom(self,center,div=0,prec=1):\n",
    "        order, first_hom=self.get_first_hom(center)\n",
    "        cftot,H=self.ttti_exp(center, order+self.degree_offset)\n",
    "        cf=cftot[0].gcd(self.PolRing(div^(order)))\n",
    "        return [self.PolRing(h/cf) for h in [sum(hh[order:order+prec]) for hh in H]]\n",
    "    \n",
    "    def get_char_dirs(self, center):\n",
    "        sat_first_hom=self.get_sat_first_hom(center)\n",
    "        nu=max([s.degree() for s in sat_first_hom])\n",
    "        proj_space=ProjectiveSpace(self.nvars,self.base_field,','.join([str(v) for v in self.variables+[var('lambda_')]]))\n",
    "        char_dirs_comps=proj_space.subscheme([h-lambda_^(nu-1)*v for h,v in zip(sat_first_hom,self.variables)]).irreducible_components()\n",
    "        char_dirs=[]\n",
    "        dicritic_comps=[]\n",
    "        for cd_sch in char_dirs_comps:\n",
    "            if cd_sch.dimension()==0:\n",
    "                cd=list(cd_sch.rational_points()[0])\n",
    "                if cd[:-1]!=[0]*self.nvars:\n",
    "                    char_dirs.append((cd[:-1],cd[-1]))\n",
    "            else:\n",
    "                dicritic_comps.append((cd_sch.dimension(),cd_sch.defining_polynomials()))\n",
    "        return char_dirs,dicritic_comps\n",
    "        "
   ]
  },
  {
   "cell_type": "markdown",
   "metadata": {},
   "source": [
    "We work out an example, depending on some parameters; first of all, we compute the characteristic directions."
   ]
  },
  {
   "cell_type": "code",
   "execution_count": 2,
   "metadata": {},
   "outputs": [
    {
     "data": {
      "text/plain": [
       "([([0, 1, 0], 0),\n",
       "  ([0, 0, 1], 0),\n",
       "  ([0, 1, 1], 0),\n",
       "  ([1, 1, 1], 0),\n",
       "  ([-1, 1, 1], 0)],\n",
       " [])"
      ]
     },
     "execution_count": 2,
     "metadata": {},
     "output_type": "execute_result"
    }
   ],
   "source": [
    "var('x,y,z,R_040,Q_004,P_004,P_040,x0,y0,z0,R_004')\n",
    "\n",
    "example=SelfMap([x+y*z*(y-z)+P_004*z^4+P_040*y^4,y+(x^2-z^2)*x+Q_004*z^4, z+x*z*(y-z)+R_040*y^4+R_004*z^4],[x,y,z], \n",
    "                inplace=False, params=[P_004,P_040,Q_004,R_040,R_004,x0,y0,z0])\n",
    "example.get_char_dirs([0,0,0])"
   ]
  },
  {
   "cell_type": "markdown",
   "metadata": {},
   "source": [
    "### First blow-up (of the origin)"
   ]
  },
  {
   "cell_type": "code",
   "execution_count": 3,
   "metadata": {},
   "outputs": [
    {
     "name": "stdout",
     "output_type": "stream",
     "text": [
      "***** Characteristic direction [0,0,1]\n",
      "\n",
      "*** Expansion around the point [0, 0, 0] up to order 10\n",
      "\n",
      "x + z^2 * ( - y + P_004*z\n",
      "            + x^2 + y^2 + (-R_004)*x*z\n",
      "            - x^2*y\n",
      "            - x*y*z^2 + P_004*x*z^3 + R_004*y*z^3 + (-P_004*R_004)*z^4\n",
      "            + P_040*y^4*z + x^3*z^2 + 2*x*y^2*z^2 + (-2*R_004)*x^2*z^3 + (-P_004)*x*y*z^3 + (-R_004)*y^2*z^3 + R_004^2*x*z^4\n",
      "            + (-R_040)*x*y^4*z + (-2)*x^3*y*z^2 - x*y^3*z^2 + 2*R_004*x^2*y*z^3\n",
      "            + x^3*y^2*z^2 - x^2*y*z^4 + P_004*x^2*z^5 + 2*R_004*x*y*z^5 + (-2*P_004*R_004)*x*z^6 + (-R_004^2)*y*z^6 + P_004*R_004^2*z^7\n",
      "            + P_040*x*y^4*z^3 + R_040*y^5*z^3 + x^4*z^4 + 3*x^2*y^2*z^4 + (-P_004*R_040 - P_040*R_004)*y^4*z^4 + (-3*R_004)*x^3*z^5 + (-2*P_004)*x^2*y*z^5 + (-4*R_004)*x*y^2*z^5 + 3*R_004^2*x^2*z^6 + 2*P_004*R_004*x*y*z^6 + R_004^2*y^2*z^6 + (-R_004^3)*x*z^7\n",
      "            + ... )\n",
      "y + z^2 * ( - x + Q_004*z\n",
      "            + x*y + (-R_004)*y*z\n",
      "            + x^3 - x*y^2\n",
      "            - x^2*z^2 + (Q_004 + R_004)*x*z^3 + (-Q_004*R_004)*z^4\n",
      "            + 2*x^2*y*z^2 + (-Q_004 - 2*R_004)*x*y*z^3 + R_004^2*y*z^4\n",
      "            + (-R_040)*y^5*z + x^4*z^2 + (-2)*x^2*y^2*z^2 + (-R_004)*x^3*z^3 + 2*R_004*x*y^2*z^3\n",
      "            - x^4*y*z^2 + x^2*y^3*z^2 - x^3*z^4 + (Q_004 + 2*R_004)*x^2*z^5 + (-2*Q_004*R_004 - R_004^2)*x*z^6 + Q_004*R_004^2*z^7\n",
      "            + R_040*x*y^4*z^3 + 3*x^3*y*z^4 + (-Q_004*R_040)*y^4*z^4 + (-2*Q_004 - 5*R_004)*x^2*y*z^5 + (2*Q_004*R_004 + 3*R_004^2)*x*y*z^6 + (-R_004^3)*y*z^7\n",
      "            + ... )\n",
      "z + z^3 * ( - x + R_004*z\n",
      "            + x*y\n",
      "            + R_040*y^4*z\n",
      "            + ... )\n",
      "\n",
      "\n",
      "*** Common factor of terms from degree [5, 5, 6] by component\n",
      "*** Excluding the common factors [z^2, z^2, z^3]\n",
      "\n",
      "In the x component: 1\n",
      "In the y component: 1\n",
      "In the z component: y^4*z\n",
      "\n",
      "\n",
      "*** Saturated homogeneous part of lower degree\n",
      "\n",
      "[-y + P_004*z, -x + Q_004*z, 0]\n"
     ]
    }
   ],
   "source": [
    "print('***** Characteristic direction [0,0,1]\\n')\n",
    "X1_z=example.blowup([0,0,0],3,out_map=True)\n",
    "X1_y=example.blowup([0,0,0],2,out_map=True)\n",
    "X1_z.print_ttti_exp([0,0,0],10,sep_fact=True,rem_fact=True)\n",
    "print('\\n\\n*** Saturated homogeneous part of lower degree\\n')\n",
    "print(X1_z.get_sat_first_hom([0,0,0]))"
   ]
  },
  {
   "cell_type": "code",
   "execution_count": 4,
   "metadata": {},
   "outputs": [
    {
     "name": "stdout",
     "output_type": "stream",
     "text": [
      "***** Characteristic direction [0,1,1]\n",
      "\n",
      "*** Expansion around the point [0, 1, 0] up to order 10\n",
      "\n",
      "x + z^2 * (   y + (P_004 + P_040)*z\n",
      "            + y^2 + (-R_040 - R_004)*x*z + 4*P_040*y*z\n",
      "            - x^2*y + (-4*R_040)*x*y*z + 6*P_040*y^2*z\n",
      "            + (-6*R_040)*x*y^2*z + 4*P_040*y^3*z + (-R_040 - R_004)*y*z^3 + (-P_004*R_040 - P_040*R_040 - P_004*R_004 - P_040*R_004)*z^4\n",
      "            + (-4*R_040)*x*y^3*z + P_040*y^4*z - x*y^2*z^2 + (-P_004 - P_040)*x*y*z^3 + (-5*R_040 - R_004)*y^2*z^3 + (R_040^2 + 2*R_040*R_004 + R_004^2)*x*z^4 + (-4*P_004*R_040 - 8*P_040*R_040 - 4*P_040*R_004)*y*z^4\n",
      "            + (-R_040)*x*y^4*z - x*y^3*z^2 + (2*R_040 + 2*R_004)*x^2*y*z^3 + (-4*P_040)*x*y^2*z^3 + (-10*R_040)*y^3*z^3 + (8*R_040^2 + 8*R_040*R_004)*x*y*z^4 + (-6*P_004*R_040 - 28*P_040*R_040 - 6*P_040*R_004)*y^2*z^4\n",
      "            + x^3*y^2*z^2 + 8*R_040*x^2*y^2*z^3 + (-6*P_040)*x*y^3*z^3 + (-10*R_040)*y^4*z^3 + (28*R_040^2 + 12*R_040*R_004)*x*y^2*z^4 + (-4*P_004*R_040 - 56*P_040*R_040 - 4*P_040*R_004)*y^3*z^4 + (R_040^2 + 2*R_040*R_004 + R_004^2)*y*z^6 + (P_004*R_040^2 + P_040*R_040^2 + 2*P_004*R_040*R_004 + 2*P_040*R_040*R_004 + P_004*R_004^2 + P_040*R_004^2)*z^7\n",
      "            + 12*R_040*x^2*y^3*z^3 + (-4*P_040)*x*y^4*z^3 + (-5*R_040)*y^5*z^3 + (56*R_040^2 + 8*R_040*R_004)*x*y^3*z^4 + (-P_004*R_040 - 70*P_040*R_040 - P_040*R_004)*y^4*z^4 + (2*R_040 + 2*R_004)*x*y^2*z^5 + (2*P_004*R_040 + 2*P_040*R_040 + 2*P_004*R_004 + 2*P_040*R_004)*x*y*z^6 + (9*R_040^2 + 10*R_040*R_004 + R_004^2)*y^2*z^6 + (-R_040^3 - 3*R_040^2*R_004 - 3*R_040*R_004^2 - R_004^3)*x*z^7 + (8*P_004*R_040^2 + 12*P_040*R_040^2 + 8*P_004*R_040*R_004 + 16*P_040*R_040*R_004 + 4*P_040*R_004^2)*y*z^7\n",
      "            + ... )\n",
      "y + z^2 * ( - x + (Q_004 - R_040 - R_004)*z\n",
      "            - x*y + (-5*R_040 - R_004)*y*z\n",
      "            + x^3 - x*y^2 + (-10*R_040)*y^2*z\n",
      "            + (-10*R_040)*y^3*z + (R_040 + R_004)*x*z^3 + (-Q_004*R_040 + R_040^2 - Q_004*R_004 + 2*R_040*R_004 + R_004^2)*z^4\n",
      "            + (-5*R_040)*y^4*z + x^2*y*z^2 + (-Q_004 + 6*R_040 + 2*R_004)*x*y*z^3 + (-4*Q_004*R_040 + 9*R_040^2 + 10*R_040*R_004 + R_004^2)*y*z^4\n",
      "            + (-R_040)*y^5*z + x^2*y^2*z^2 + (-R_040 - R_004)*x^3*z^3 + (16*R_040 + 2*R_004)*x*y^2*z^3 + (-6*Q_004*R_040 + 36*R_040^2 + 20*R_040*R_004)*y^2*z^4\n",
      "            - x^4*y*z^2 + x^2*y^3*z^2 + (-4*R_040)*x^3*y*z^3 + 24*R_040*x*y^3*z^3 + (-4*Q_004*R_040 + 84*R_040^2 + 20*R_040*R_004)*y^3*z^4 + (-R_040^2 - 2*R_040*R_004 - R_004^2)*x*z^6 + (Q_004*R_040^2 - R_040^3 + 2*Q_004*R_040*R_004 - 3*R_040^2*R_004 + Q_004*R_004^2 - 3*R_040*R_004^2 - R_004^3)*z^7\n",
      "            + (-6*R_040)*x^3*y^2*z^3 + 21*R_040*x*y^4*z^3 + (-Q_004*R_040 + 126*R_040^2 + 10*R_040*R_004)*y^4*z^4 + (-2*R_040 - 2*R_004)*x^2*y*z^5 + (2*Q_004*R_040 - 11*R_040^2 + 2*Q_004*R_004 - 14*R_040*R_004 - 3*R_004^2)*x*y*z^6 + (8*Q_004*R_040^2 - 13*R_040^3 + 8*Q_004*R_040*R_004 - 27*R_040^2*R_004 - 15*R_040*R_004^2 - R_004^3)*y*z^7\n",
      "            + ... )\n",
      "z + z^3 * (   (R_040 + R_004)*z\n",
      "            + x*y + 4*R_040*y*z\n",
      "            + 6*R_040*y^2*z\n",
      "            + 4*R_040*y^3*z\n",
      "            + R_040*y^4*z\n",
      "            + ... )\n",
      "\n",
      "\n",
      "*** Common factor of terms from degree [5, 5, 6] by component\n",
      "*** Excluding the common factors [z^2, z^2, z^3]\n",
      "\n",
      "In the x component: 1\n",
      "In the y component: 1\n",
      "In the z component: y^2*z\n",
      "\n",
      "\n",
      "*** Saturated homogeneous part of lower degree\n",
      "\n",
      "[y + (P_004 + P_040)*z, -x + (Q_004 - R_040 - R_004)*z, 0]\n"
     ]
    }
   ],
   "source": [
    "print('***** Characteristic direction [0,1,1]\\n')\n",
    "X1_z.print_ttti_exp([0,1,0],10,sep_fact=True,rem_fact=True)\n",
    "print('\\n\\n*** Saturated homogeneous part of lower degree\\n')\n",
    "print(X1_z.get_sat_first_hom([0,1,0]))"
   ]
  },
  {
   "cell_type": "code",
   "execution_count": 5,
   "metadata": {},
   "outputs": [
    {
     "name": "stdout",
     "output_type": "stream",
     "text": [
      "***** Characteristic direction [1,1,1]\n",
      "\n",
      "*** Expansion around the point [1, 1, 0] up to order 10\n",
      "\n",
      "x + z^2 * (   (P_004 + P_040 - R_040 - R_004)*z\n",
      "            + (-2)*x*y + y^2 + (-R_040 - R_004)*x*z + (4*P_040 - 4*R_040)*y*z\n",
      "            - x^2*y + (-4*R_040)*x*y*z + (6*P_040 - 6*R_040)*y^2*z\n",
      "            + (-6*R_040)*x*y^2*z + (4*P_040 - 4*R_040)*y^3*z + (-P_004 - P_040 + R_040 + R_004)*y*z^3 + (-P_004*R_040 - P_040*R_040 + R_040^2 - P_004*R_004 - P_040*R_004 + 2*R_040*R_004 + R_004^2)*z^4\n",
      "            + (-4*R_040)*x*y^3*z + (P_040 - R_040)*y^4*z + 2*x*y^2*z^2 - y^3*z^2 + (-P_004 - P_040 + 4*R_040 + 4*R_004)*x*y*z^3 + (-4*P_040 + 3*R_040 - R_004)*y^2*z^3 + (R_040^2 + 2*R_040*R_004 + R_004^2)*x*z^4 + (-4*P_004*R_040 - 8*P_040*R_040 + 8*R_040^2 - 4*P_040*R_004 + 8*R_040*R_004)*y*z^4\n",
      "            + (-R_040)*x*y^4*z + 3*x^2*y^2*z^2 - x*y^3*z^2 + (2*R_040 + 2*R_004)*x^2*y*z^3 + (-4*P_040 + 16*R_040)*x*y^2*z^3 + (-6*P_040 + 2*R_040)*y^3*z^3 + (8*R_040^2 + 8*R_040*R_004)*x*y*z^4 + (-6*P_004*R_040 - 28*P_040*R_040 + 28*R_040^2 - 6*P_040*R_004 + 12*R_040*R_004)*y^2*z^4\n",
      "            + x^3*y^2*z^2 + 8*R_040*x^2*y^2*z^3 + (-6*P_040 + 24*R_040)*x*y^3*z^3 + (-4*P_040 - 2*R_040)*y^4*z^3 + (28*R_040^2 + 12*R_040*R_004)*x*y^2*z^4 + (-4*P_004*R_040 - 56*P_040*R_040 + 56*R_040^2 - 4*P_040*R_004 + 8*R_040*R_004)*y^3*z^4 + (P_004 + P_040 - R_040 - R_004)*y^2*z^5 + (2*P_004*R_040 + 2*P_040*R_040 - 2*R_040^2 + 2*P_004*R_004 + 2*P_040*R_004 - 4*R_040*R_004 - 2*R_004^2)*y*z^6 + (P_004*R_040^2 + P_040*R_040^2 - R_040^3 + 2*P_004*R_040*R_004 + 2*P_040*R_040*R_004 - 3*R_040^2*R_004 + P_004*R_004^2 + P_040*R_004^2 - 3*R_040*R_004^2 - R_004^3)*z^7\n",
      "            + 12*R_040*x^2*y^3*z^3 + (-4*P_040 + 16*R_040)*x*y^4*z^3 + (-P_040 - 3*R_040)*y^5*z^3 + (56*R_040^2 + 8*R_040*R_004 - 2)*x*y^3*z^4 + (-P_004*R_040 - 70*P_040*R_040 + 70*R_040^2 - P_040*R_004 + 2*R_040*R_004 + 1)*y^4*z^4 + (2*P_004 + 2*P_040 - 7*R_040 - 7*R_004)*x*y^2*z^5 + (4*P_040 - 2*R_040 + 2*R_004)*y^3*z^5 + (2*P_004*R_040 + 2*P_040*R_040 - 6*R_040^2 + 2*P_004*R_004 + 2*P_040*R_004 - 12*R_040*R_004 - 6*R_004^2)*x*y*z^6 + (8*P_004*R_040 + 16*P_040*R_040 - 15*R_040^2 + 8*P_040*R_004 - 14*R_040*R_004 + R_004^2)*y^2*z^6 + (-R_040^3 - 3*R_040^2*R_004 - 3*R_040*R_004^2 - R_004^3)*x*z^7 + (8*P_004*R_040^2 + 12*P_040*R_040^2 - 12*R_040^3 + 8*P_004*R_040*R_004 + 16*P_040*R_040*R_004 - 24*R_040^2*R_004 + 4*P_040*R_004^2 - 12*R_040*R_004^2)*y*z^7\n",
      "            + ... )\n",
      "y + z^2 * (   2*x - y + (Q_004 - R_040 - R_004)*z\n",
      "            + 3*x^2 - x*y - y^2 + (-5*R_040 - R_004)*y*z\n",
      "            + x^3 - x*y^2 + (-10*R_040)*y^2*z\n",
      "            + (-10*R_040)*y^3*z + (-2)*x*y*z^2 + y^2*z^2 + (-2*R_040 - 2*R_004)*x*z^3 + (-Q_004 + 2*R_040 + 2*R_004)*y*z^3 + (-Q_004*R_040 + R_040^2 - Q_004*R_004 + 2*R_040*R_004 + R_004^2)*z^4\n",
      "            + (-5*R_040)*y^4*z + (-5)*x^2*y*z^2 + 2*x*y^2*z^2 + y^3*z^2 + (-3*R_040 - 3*R_004)*x^2*z^3 + (-Q_004 - 6*R_040 + 2*R_004)*x*y*z^3 + (10*R_040 + 2*R_004)*y^2*z^3 + (-4*Q_004*R_040 + 9*R_040^2 + 10*R_040*R_004 + R_004^2)*y*z^4\n",
      "            + (-R_040)*y^5*z + (-4)*x^3*y*z^2 + x^2*y^2*z^2 + 2*x*y^3*z^2 + (-R_040 - R_004)*x^3*z^3 + (-12*R_040)*x^2*y*z^3 + (-2*R_040 + 2*R_004)*x*y^2*z^3 + 20*R_040*y^3*z^3 + (-6*Q_004*R_040 + 36*R_040^2 + 20*R_040*R_004)*y^2*z^4\n",
      "            - x^4*y*z^2 + x^2*y^3*z^2 + (-4*R_040)*x^3*y*z^3 + (-18*R_040)*x^2*y^2*z^3 + 12*R_040*x*y^3*z^3 + 20*R_040*y^4*z^3 + 2*x*y^2*z^4 + (-4*Q_004*R_040 + 84*R_040^2 + 20*R_040*R_004 - 1)*y^3*z^4 + (4*R_040 + 4*R_004)*x*y*z^5 + (Q_004 - 3*R_040 - 3*R_004)*y^2*z^5 + (2*R_040^2 + 4*R_040*R_004 + 2*R_004^2)*x*z^6 + (2*Q_004*R_040 - 3*R_040^2 + 2*Q_004*R_004 - 6*R_040*R_004 - 3*R_004^2)*y*z^6 + (Q_004*R_040^2 - R_040^3 + 2*Q_004*R_040*R_004 - 3*R_040^2*R_004 + Q_004*R_004^2 - 3*R_040*R_004^2 - R_004^3)*z^7\n",
      "            + (-6*R_040)*x^3*y^2*z^3 + (-12*R_040)*x^2*y^3*z^3 + 18*R_040*x*y^4*z^3 + 10*R_040*y^5*z^3 + 7*x^2*y^2*z^4 + (-3)*x*y^3*z^4 + (-Q_004*R_040 + 126*R_040^2 + 10*R_040*R_004 - 1)*y^4*z^4 + (10*R_040 + 10*R_004)*x^2*y*z^5 + (2*Q_004 + 10*R_040 - 6*R_004)*x*y^2*z^5 + (-15*R_040 - 3*R_004)*y^3*z^5 + (3*R_040^2 + 6*R_040*R_004 + 3*R_004^2)*x^2*z^6 + (2*Q_004*R_040 + 13*R_040^2 + 2*Q_004*R_004 + 10*R_040*R_004 - 3*R_004^2)*x*y*z^6 + (8*Q_004*R_040 - 27*R_040^2 - 30*R_040*R_004 - 3*R_004^2)*y^2*z^6 + (8*Q_004*R_040^2 - 13*R_040^3 + 8*Q_004*R_040*R_004 - 27*R_040^2*R_004 - 15*R_040*R_004^2 - R_004^3)*y*z^7\n",
      "            + ... )\n",
      "z + z^3 * (   y + (R_040 + R_004)*z\n",
      "            + x*y + 4*R_040*y*z\n",
      "            + 6*R_040*y^2*z\n",
      "            + 4*R_040*y^3*z\n",
      "            + R_040*y^4*z\n",
      "            + ... )\n",
      "\n",
      "\n",
      "*** Common factor of terms from degree [5, 5, 6] by component\n",
      "*** Excluding the common factors [z^2, z^2, z^3]\n",
      "\n",
      "In the x component: 1\n",
      "In the y component: 1\n",
      "In the z component: y^2*z\n",
      "\n",
      "\n",
      "*** Saturated homogeneous part of lower degree\n",
      "\n",
      "[(P_004 + P_040 - R_040 - R_004)*z, 2*x - y + (Q_004 - R_040 - R_004)*z, 0]\n"
     ]
    }
   ],
   "source": [
    "print('***** Characteristic direction [1,1,1]\\n')\n",
    "X1_z.print_ttti_exp([1,1,0],10,sep_fact=True,rem_fact=True)\n",
    "print('\\n\\n*** Saturated homogeneous part of lower degree\\n')\n",
    "print(X1_z.get_sat_first_hom([1,1,0]))"
   ]
  },
  {
   "cell_type": "code",
   "execution_count": 6,
   "metadata": {},
   "outputs": [
    {
     "name": "stdout",
     "output_type": "stream",
     "text": [
      "***** Characteristic direction [-1,1,1]\n",
      "\n",
      "*** Expansion around the point [-1, 1, 0] up to order 10\n",
      "\n",
      "x + z^2 * (   (P_004 + P_040 + R_040 + R_004)*z\n",
      "            + 2*x*y + y^2 + (-R_040 - R_004)*x*z + (4*P_040 + 4*R_040)*y*z\n",
      "            - x^2*y + (-4*R_040)*x*y*z + (6*P_040 + 6*R_040)*y^2*z\n",
      "            + (-6*R_040)*x*y^2*z + (4*P_040 + 4*R_040)*y^3*z + (P_004 + P_040 + R_040 + R_004)*y*z^3 + (-P_004*R_040 - P_040*R_040 - R_040^2 - P_004*R_004 - P_040*R_004 - 2*R_040*R_004 - R_004^2)*z^4\n",
      "            + (-4*R_040)*x*y^3*z + (P_040 + R_040)*y^4*z + 2*x*y^2*z^2 + y^3*z^2 + (-P_004 - P_040 - 4*R_040 - 4*R_004)*x*y*z^3 + (4*P_040 + 3*R_040 - R_004)*y^2*z^3 + (R_040^2 + 2*R_040*R_004 + R_004^2)*x*z^4 + (-4*P_004*R_040 - 8*P_040*R_040 - 8*R_040^2 - 4*P_040*R_004 - 8*R_040*R_004)*y*z^4\n",
      "            + (-R_040)*x*y^4*z + (-3)*x^2*y^2*z^2 - x*y^3*z^2 + (2*R_040 + 2*R_004)*x^2*y*z^3 + (-4*P_040 - 16*R_040)*x*y^2*z^3 + (6*P_040 + 2*R_040)*y^3*z^3 + (8*R_040^2 + 8*R_040*R_004)*x*y*z^4 + (-6*P_004*R_040 - 28*P_040*R_040 - 28*R_040^2 - 6*P_040*R_004 - 12*R_040*R_004)*y^2*z^4\n",
      "            + x^3*y^2*z^2 + 8*R_040*x^2*y^2*z^3 + (-6*P_040 - 24*R_040)*x*y^3*z^3 + (4*P_040 - 2*R_040)*y^4*z^3 + (28*R_040^2 + 12*R_040*R_004)*x*y^2*z^4 + (-4*P_004*R_040 - 56*P_040*R_040 - 56*R_040^2 - 4*P_040*R_004 - 8*R_040*R_004)*y^3*z^4 + (P_004 + P_040 + R_040 + R_004)*y^2*z^5 + (-2*P_004*R_040 - 2*P_040*R_040 - 2*R_040^2 - 2*P_004*R_004 - 2*P_040*R_004 - 4*R_040*R_004 - 2*R_004^2)*y*z^6 + (P_004*R_040^2 + P_040*R_040^2 + R_040^3 + 2*P_004*R_040*R_004 + 2*P_040*R_040*R_004 + 3*R_040^2*R_004 + P_004*R_004^2 + P_040*R_004^2 + 3*R_040*R_004^2 + R_004^3)*z^7\n",
      "            + 12*R_040*x^2*y^3*z^3 + (-4*P_040 - 16*R_040)*x*y^4*z^3 + (P_040 - 3*R_040)*y^5*z^3 + (56*R_040^2 + 8*R_040*R_004 + 2)*x*y^3*z^4 + (-P_004*R_040 - 70*P_040*R_040 - 70*R_040^2 - P_040*R_004 - 2*R_040*R_004 + 1)*y^4*z^4 + (-2*P_004 - 2*P_040 - 7*R_040 - 7*R_004)*x*y^2*z^5 + (4*P_040 + 2*R_040 - 2*R_004)*y^3*z^5 + (2*P_004*R_040 + 2*P_040*R_040 + 6*R_040^2 + 2*P_004*R_004 + 2*P_040*R_004 + 12*R_040*R_004 + 6*R_004^2)*x*y*z^6 + (-8*P_004*R_040 - 16*P_040*R_040 - 15*R_040^2 - 8*P_040*R_004 - 14*R_040*R_004 + R_004^2)*y^2*z^6 + (-R_040^3 - 3*R_040^2*R_004 - 3*R_040*R_004^2 - R_004^3)*x*z^7 + (8*P_004*R_040^2 + 12*P_040*R_040^2 + 12*R_040^3 + 8*P_004*R_040*R_004 + 16*P_040*R_040*R_004 + 24*R_040^2*R_004 + 4*P_040*R_004^2 + 12*R_040*R_004^2)*y*z^7\n",
      "            + ... )\n",
      "y + z^2 * (   2*x + y + (Q_004 - R_040 - R_004)*z\n",
      "            + (-3)*x^2 - x*y + y^2 + (-5*R_040 - R_004)*y*z\n",
      "            + x^3 - x*y^2 + (-10*R_040)*y^2*z\n",
      "            + (-10*R_040)*y^3*z + 2*x*y*z^2 + y^2*z^2 + (-2*R_040 - 2*R_004)*x*z^3 + (Q_004 - 2*R_040 - 2*R_004)*y*z^3 + (-Q_004*R_040 + R_040^2 - Q_004*R_004 + 2*R_040*R_004 + R_004^2)*z^4\n",
      "            + (-5*R_040)*y^4*z + (-5)*x^2*y*z^2 + (-2)*x*y^2*z^2 + y^3*z^2 + (3*R_040 + 3*R_004)*x^2*z^3 + (-Q_004 - 6*R_040 + 2*R_004)*x*y*z^3 + (-10*R_040 - 2*R_004)*y^2*z^3 + (-4*Q_004*R_040 + 9*R_040^2 + 10*R_040*R_004 + R_004^2)*y*z^4\n",
      "            + (-R_040)*y^5*z + 4*x^3*y*z^2 + x^2*y^2*z^2 + (-2)*x*y^3*z^2 + (-R_040 - R_004)*x^3*z^3 + 12*R_040*x^2*y*z^3 + (-2*R_040 + 2*R_004)*x*y^2*z^3 + (-20*R_040)*y^3*z^3 + (-6*Q_004*R_040 + 36*R_040^2 + 20*R_040*R_004)*y^2*z^4\n",
      "            - x^4*y*z^2 + x^2*y^3*z^2 + (-4*R_040)*x^3*y*z^3 + 18*R_040*x^2*y^2*z^3 + 12*R_040*x*y^3*z^3 + (-20*R_040)*y^4*z^3 + 2*x*y^2*z^4 + (-4*Q_004*R_040 + 84*R_040^2 + 20*R_040*R_004 + 1)*y^3*z^4 + (-4*R_040 - 4*R_004)*x*y*z^5 + (Q_004 - 3*R_040 - 3*R_004)*y^2*z^5 + (2*R_040^2 + 4*R_040*R_004 + 2*R_004^2)*x*z^6 + (-2*Q_004*R_040 + 3*R_040^2 - 2*Q_004*R_004 + 6*R_040*R_004 + 3*R_004^2)*y*z^6 + (Q_004*R_040^2 - R_040^3 + 2*Q_004*R_040*R_004 - 3*R_040^2*R_004 + Q_004*R_004^2 - 3*R_040*R_004^2 - R_004^3)*z^7\n",
      "            + (-6*R_040)*x^3*y^2*z^3 + 12*R_040*x^2*y^3*z^3 + 18*R_040*x*y^4*z^3 + (-10*R_040)*y^5*z^3 + (-7)*x^2*y^2*z^4 + (-3)*x*y^3*z^4 + (-Q_004*R_040 + 126*R_040^2 + 10*R_040*R_004 + 1)*y^4*z^4 + (10*R_040 + 10*R_004)*x^2*y*z^5 + (-2*Q_004 - 10*R_040 + 6*R_004)*x*y^2*z^5 + (-15*R_040 - 3*R_004)*y^3*z^5 + (-3*R_040^2 - 6*R_040*R_004 - 3*R_004^2)*x^2*z^6 + (2*Q_004*R_040 + 13*R_040^2 + 2*Q_004*R_004 + 10*R_040*R_004 - 3*R_004^2)*x*y*z^6 + (-8*Q_004*R_040 + 27*R_040^2 + 30*R_040*R_004 + 3*R_004^2)*y^2*z^6 + (8*Q_004*R_040^2 - 13*R_040^3 + 8*Q_004*R_040*R_004 - 27*R_040^2*R_004 - 15*R_040*R_004^2 - R_004^3)*y*z^7\n",
      "            + ... )\n",
      "z + z^3 * ( - y + (R_040 + R_004)*z\n",
      "            + x*y + 4*R_040*y*z\n",
      "            + 6*R_040*y^2*z\n",
      "            + 4*R_040*y^3*z\n",
      "            + R_040*y^4*z\n",
      "            + ... )\n",
      "\n",
      "\n",
      "*** Common factor of terms from degree [5, 5, 6] by component\n",
      "*** Excluding the common factors [z^2, z^2, z^3]\n",
      "\n",
      "In the x component: 1\n",
      "In the y component: 1\n",
      "In the z component: y^2*z\n",
      "\n",
      "\n",
      "*** Saturated homogeneous part of lower degree\n",
      "\n",
      "[(P_004 + P_040 + R_040 + R_004)*z, 2*x + y + (Q_004 - R_040 - R_004)*z, 0]\n"
     ]
    }
   ],
   "source": [
    "print('***** Characteristic direction [-1,1,1]\\n')\n",
    "X1_z.print_ttti_exp([-1,1,0],10,sep_fact=True,rem_fact=True)\n",
    "print('\\n\\n*** Saturated homogeneous part of lower degree\\n')\n",
    "print(X1_z.get_sat_first_hom([-1,1,0]))"
   ]
  },
  {
   "cell_type": "code",
   "execution_count": 7,
   "metadata": {},
   "outputs": [
    {
     "name": "stdout",
     "output_type": "stream",
     "text": [
      "***** Characteristic direction [0,1,0]\n",
      "\n",
      "*** Expansion around the point [0, 0, 0] up to order 10\n",
      "\n",
      "x + y^2 * (   P_040*y + z\n",
      "            - z^2\n",
      "            - x^4 + x^2*z^2\n",
      "            + P_004*y*z^4\n",
      "            + (-P_040)*x^3*y^3 - x^3*y^2*z + P_040*x*y^3*z^2 + x*y^2*z^3 + (-Q_004)*x*y*z^4\n",
      "            + x^3*y^2*z^2 - x*y^2*z^4\n",
      "            + (-P_040*Q_004)*y^4*z^4 + (-Q_004)*y^3*z^5\n",
      "            + ... )\n",
      "y + y^3 * (   x^3 - x*z^2\n",
      "            + Q_004*y*z^4\n",
      "            + ... )\n",
      "z + y^2 * (   R_040*y\n",
      "            + x*z\n",
      "            - x*z^2\n",
      "            - x^3*z + x*z^3\n",
      "            + R_004*y*z^4\n",
      "            + (-R_040)*x^3*y^3 + R_040*x*y^3*z^2 + (-Q_004)*y*z^5\n",
      "            - x^4*y^2*z + x^2*y^2*z^3\n",
      "            + x^4*y^2*z^2 - x^2*y^2*z^4 + (-Q_004*R_040)*y^4*z^4\n",
      "            + ... )\n",
      "\n",
      "\n",
      "*** Common factor of terms from degree [5, 6, 5] by component\n",
      "*** Excluding the common factors [y^2, y^3, y^2]\n",
      "\n",
      "In the x component: 1\n",
      "In the y component: 1\n",
      "In the z component: 1\n",
      "\n",
      "\n",
      "*** Saturated homogeneous part of lower degree\n",
      "\n",
      "[P_040*y + z, 0, R_040*y]\n"
     ]
    }
   ],
   "source": [
    "print('***** Characteristic direction [0,1,0]\\n')\n",
    "X1_y.print_ttti_exp([0,0,0],10,sep_fact=True,rem_fact=True)\n",
    "print('\\n\\n*** Saturated homogeneous part of lower degree\\n')\n",
    "print(X1_y.get_sat_first_hom([0,0,0]))"
   ]
  },
  {
   "cell_type": "markdown",
   "metadata": {},
   "source": [
    "### Second blowup (of p5)"
   ]
  },
  {
   "cell_type": "code",
   "execution_count": 8,
   "metadata": {},
   "outputs": [
    {
     "name": "stdout",
     "output_type": "stream",
     "text": [
      "***** Characteristic direction [1,0,0]\n",
      "\n",
      "*** Expansion around the point [0, 0, 0] up to order 10\n",
      "\n",
      "x + x^3*y^2 * (   P_040*y + z\n",
      "                - x^3 - x*z^2\n",
      "                + x^3*z^2\n",
      "                + ... )\n",
      "y + x^2*y^3 * (   (-P_040)*y - z\n",
      "                + 2*x^3 + x*z^2\n",
      "                + (-2)*x^3*z^2\n",
      "                + ... )\n",
      "z + x^2*y^2 * (   R_040*y\n",
      "                + x*z + (-P_040)*y*z - z^2\n",
      "                - x^2*z^2 + x*z^3\n",
      "                + (-P_040*R_040)*x^2*y^4 + (-R_040)*x^2*y^3*z\n",
      "                + ... )\n",
      "\n",
      "\n",
      "*** Common factor of terms from degree [8, 8, 7] by component\n",
      "*** Excluding the common factors [x^3*y^2, x^2*y^3, x^2*y^2]\n",
      "\n",
      "In the x component: x\n",
      "In the y component: x\n",
      "In the z component: x\n",
      "\n",
      "\n",
      "*** Saturated homogeneous part of lower degree\n",
      "\n",
      "[0, 0, R_040*y]\n"
     ]
    }
   ],
   "source": [
    "X2_x=X1_y.blowup([0,0,0],1,out_map=True)\n",
    "print('***** Characteristic direction [1,0,0]\\n')\n",
    "X2_x.print_ttti_exp([0,0,0],10,sep_fact=True,rem_fact=True)\n",
    "print('\\n\\n*** Saturated homogeneous part of lower degree\\n')\n",
    "print(X2_x.get_sat_first_hom([0,0,0]))"
   ]
  },
  {
   "cell_type": "markdown",
   "metadata": {},
   "source": [
    "### Third blowup (of p5,1)"
   ]
  },
  {
   "cell_type": "code",
   "execution_count": 9,
   "metadata": {},
   "outputs": [
    {
     "name": "stdout",
     "output_type": "stream",
     "text": [
      "***** Characteristic direction [1,0,z0]\n",
      "\n",
      "*** Expansion around the point [0, 0, z0] up to order 12\n",
      "\n",
      "x + x^6*y^2 * (   z0\n",
      "                + P_040*y + z\n",
      "                + (-z0^2 - 1)*x^2\n",
      "                + (-2*z0)*x^2*z\n",
      "                + z0^2*x^4 - x^2*z^2\n",
      "                + ... )\n",
      "y + x^5*y^3 * ( - 2*z0\n",
      "                + (-2*P_040)*y + (-2)*z\n",
      "                + (2*z0^2 + 3)*x^2\n",
      "                + 4*z0*x^2*z\n",
      "                + (-3*z0^2)*x^4 + 2*x^2*z^2\n",
      "                + ... )\n",
      "z + x^4*y^2 * (   (-2*z0^2 + z0)*x + R_040*y\n",
      "                + (-2*P_040*z0)*x*y + (-4*z0 + 1)*x*z\n",
      "                + (2*z0^3 - z0^2 + z0)*x^3 + (-2*P_040)*x*y*z + (-2)*x*z^2\n",
      "                + (6*z0^2 - 2*z0 + 1)*x^3*z\n",
      "                + (-z0^3)*x^5 + (6*z0 - 1)*x^3*z^2\n",
      "                + (-3*z0^2)*x^5*z + 2*x^3*z^3\n",
      "                + ... )\n",
      "\n",
      "\n",
      "*** Common factor of terms from degree [11, 11, 9] by component\n",
      "*** Excluding the common factors [x^6*y^2, x^5*y^3, x^4*y^2]\n",
      "\n",
      "In the x component: x^2\n",
      "In the y component: x^2\n",
      "In the z component: x\n",
      "\n",
      "\n",
      "*** Saturated homogeneous part of lower degree\n",
      "\n",
      "[0, 0, (-2*z0^2 + z0)*x + R_040*y]\n"
     ]
    }
   ],
   "source": [
    "X3_x=X2_x.blowup([0,0,0],1,out_map=True)\n",
    "print('***** Characteristic direction [1,0,z0]\\n')\n",
    "X3_x.print_ttti_exp([0,0,z0],12,sep_fact=True,rem_fact=True)\n",
    "print('\\n\\n*** Saturated homogeneous part of lower degree\\n')\n",
    "print(X3_x.get_sat_first_hom([0,0,z0]))"
   ]
  },
  {
   "cell_type": "code",
   "execution_count": 10,
   "metadata": {},
   "outputs": [
    {
     "name": "stdout",
     "output_type": "stream",
     "text": [
      "***** Characteristic direction [0,0,1]\n",
      "\n",
      "*** Expansion around the point [0, 0, 0] up to order 15\n",
      "\n",
      "x + x^3*y^2*z^4 * (   (-R_040)*y + 2*z\n",
      "                    - x*z + 2*P_040*y*z\n",
      "                    + (-2)*x*z^3\n",
      "                    + x^2*z^3\n",
      "                    - x^3*z^3\n",
      "                    + ... )\n",
      "y + x^2*y^3*z^4 * (   (-R_040)*y\n",
      "                    - x*z\n",
      "                    + x^2*z^3\n",
      "                    + 2*x^3*z^3\n",
      "                    + ... )\n",
      "z + x^2*y^2*z^5 * (   R_040*y - z\n",
      "                    + x*z + (-P_040)*y*z\n",
      "                    + x*z^3\n",
      "                    - x^2*z^3\n",
      "                    + ... )\n",
      "\n",
      "\n",
      "*** Common factor of terms from degree [12, 12, 12] by component\n",
      "*** Excluding the common factors [x^3*y^2*z^4, x^2*y^3*z^4, x^2*y^2*z^5]\n",
      "\n",
      "In the x component: x*z^3\n",
      "In the y component: x^2*z^3\n",
      "In the z component: x*z^3\n",
      "\n",
      "\n",
      "*** Saturated homogeneous part of lower degree\n",
      "\n",
      "[(-R_040)*x*y + 2*x*z, (-R_040)*y^2, R_040*y*z - z^2]\n"
     ]
    }
   ],
   "source": [
    "X3_z=X2_x.blowup([0,0,0],3,out_map=True)\n",
    "print('***** Characteristic direction [0,0,1]\\n')\n",
    "X3_z.print_ttti_exp([0,0,0],15,sep_fact=True,rem_fact=True)\n",
    "print('\\n\\n*** Saturated homogeneous part of lower degree\\n')\n",
    "print(X3_z.get_sat_first_hom([0,0,0]))"
   ]
  },
  {
   "cell_type": "markdown",
   "metadata": {},
   "source": [
    "### Fourth blowup (of the line L)"
   ]
  },
  {
   "cell_type": "code",
   "execution_count": 11,
   "metadata": {},
   "outputs": [
    {
     "name": "stdout",
     "output_type": "stream",
     "text": [
      "***** Characteristic direction [1,0,0]\n",
      "\n",
      "*** Expansion around the point [0, 0, 0] up to order 15\n",
      "\n",
      "x + x^8*y^2 * (   z\n",
      "                - x^2 + P_040*x*y\n",
      "                - x^2*z^2\n",
      "                + ... )\n",
      "y + x^7*y^3 * (   (-3)*z\n",
      "                + 4*x^2 + (-3*P_040)*x*y\n",
      "                + 3*x^2*z^2\n",
      "                + ... )\n",
      "z + x^7*y^2 * (   R_040*y + z\n",
      "                + (-2)*z^2\n",
      "                + x^2*z + (-2*P_040)*x*y*z\n",
      "                - x^2*z^2\n",
      "                + 2*x^2*z^3\n",
      "                + ... )\n",
      "\n",
      "\n",
      "*** Common factor of terms from degree [13, 13, 12] by component\n",
      "*** Excluding the common factors [x^8*y^2, x^7*y^3, x^7*y^2]\n",
      "\n",
      "In the x component: x^2*z^2\n",
      "In the y component: x^2*z^2\n",
      "In the z component: x*z\n",
      "\n",
      "\n",
      "*** Homogeneous parts of lower degrees, saturated wrt x=0\n",
      "\n",
      "[x*y^2*z, (-3*P_040)*x*y^4 + (-3)*y^3*z, (-2*P_040)*x*y^3*z + (-2)*y^2*z^2 + R_040*y^3 + y^2*z]  + terms in x^2\n"
     ]
    }
   ],
   "source": [
    "X4_xy=X3_x.blowup_ax([0,0,0],[3],1,out_map=True)\n",
    "print('***** Characteristic direction [1,0,0]\\n')\n",
    "X4_xy.print_ttti_exp([0,0,0],15,sep_fact=True,rem_fact=True)\n",
    "print('\\n\\n*** Homogeneous parts of lower degrees, saturated wrt x=0\\n')\n",
    "print([X4_xy.PolRing.ideal(x^2).reduce(ss) for ss in X4_xy.get_sat_first_hom([0,0,0], div=x, prec=3)],\" + terms in x^2\")"
   ]
  },
  {
   "cell_type": "code",
   "execution_count": 12,
   "metadata": {},
   "outputs": [
    {
     "name": "stdout",
     "output_type": "stream",
     "text": [
      "\n",
      "\n",
      "*** Homogeneous parts of lower degrees, saturated wrt xy=0, at a point [0,0,z0]\n",
      "\n",
      "[x*z + x*z0, -3*y*z - 3*y*z0, R_040*y - 2*z^2 - 4*z*z0 - 2*z0^2 + z + z0]  + terms in x^2,xy\n"
     ]
    }
   ],
   "source": [
    "print('\\n\\n*** Homogeneous parts of lower degrees, saturated wrt xy=0, at a point [0,0,z0]\\n')\n",
    "print([X4_xy.PolRing.ideal([x^2,x*y]).reduce(ss).subs(z=z+z0).expand() for ss in X4_xy.get_sat_first_hom([0,0,0],div=x*y, prec=3)],\" + terms in x^2,xy\")"
   ]
  },
  {
   "cell_type": "code",
   "execution_count": 13,
   "metadata": {},
   "outputs": [
    {
     "name": "stdout",
     "output_type": "stream",
     "text": [
      "***** Characteristic direction [1,0,1/2]\n",
      "\n",
      "*** Expansion around the point [0, 0, 1/2] up to order 15\n",
      "\n",
      "x + x^8*y^2 * (   1/2\n",
      "                + z\n",
      "                + (-5/4)*x^2 + P_040*x*y\n",
      "                - x^2*z\n",
      "                + 1/4*x^4 - x^2*z^2\n",
      "                + x^4*z\n",
      "                + ... )\n",
      "y + x^7*y^3 * ( - 3/2\n",
      "                + (-3)*z\n",
      "                + 19/4*x^2 + (-3*P_040)*x*y\n",
      "                + 3*x^2*z\n",
      "                - x^4 + 3*x^2*z^2\n",
      "                + (-4)*x^4*z\n",
      "                + ... )\n",
      "z + x^7*y^2 * (   R_040*y - z\n",
      "                + 1/2*x^2 + (-P_040)*x*y + (-2)*z^2\n",
      "                + 3/2*x^2*z + (-2*P_040)*x*y*z\n",
      "                + (-1/8)*x^4 + 2*x^2*z^2\n",
      "                + (-3/4)*x^4*z + 2*x^2*z^3\n",
      "                + (-3/2)*x^4*z^2\n",
      "                + ... )\n",
      "\n",
      "\n",
      "*** Common factor of terms from degree [13, 13, 12] by component\n",
      "*** Excluding the common factors [x^8*y^2, x^7*y^3, x^7*y^2]\n",
      "\n",
      "In the x component: x^2\n",
      "In the y component: x^2\n",
      "In the z component: x\n",
      "\n",
      "\n",
      "*** Homogeneous part of lower degree, saturated\n",
      "\n",
      "[1/2*x, (-3/2)*y, R_040*y - z]\n"
     ]
    }
   ],
   "source": [
    "print('***** Characteristic direction [1,0,1/2]\\n')\n",
    "X4_xy.print_ttti_exp([0,0,1/2],15,sep_fact=True,rem_fact=True)\n",
    "print('\\n\\n*** Homogeneous part of lower degree, saturated\\n')\n",
    "print(X4_xy.get_sat_first_hom([0,0,1/2]))"
   ]
  },
  {
   "cell_type": "code",
   "execution_count": 14,
   "metadata": {},
   "outputs": [
    {
     "name": "stdout",
     "output_type": "stream",
     "text": [
      "***** Characteristic direction [0,1,0]\n",
      "\n",
      "*** Expansion around the point [0, 0, 0] up to order 18\n",
      "\n",
      "x + x^6*y^7 * (   3*P_040*y + 3*z\n",
      "                + (-4)*x^2*y^2\n",
      "                + ... )\n",
      "y + x^5*y^8 * (   (-2*P_040)*y + (-2)*z\n",
      "                + 3*x^2*y^2\n",
      "                + ... )\n",
      "z + x^4*y^7 * (   R_040\n",
      "                + x*z\n",
      "                + (-2*P_040)*x*y*z + (-2)*x*z^2\n",
      "                + x^3*y^2*z\n",
      "                - x^3*y^2*z^2\n",
      "                + ... )\n",
      "\n",
      "\n",
      "*** Common factor of terms from degree [16, 16, 14] by component\n",
      "*** Excluding the common factors [x^6*y^7, x^5*y^8, x^4*y^7]\n",
      "\n",
      "In the x component: x^2*y^2\n",
      "In the y component: x^2*y^2\n",
      "In the z component: x*z\n",
      "\n",
      "\n",
      "*** Homogeneous parts from degree 11 to 14, saturated wrt y=0\n",
      "\n",
      "[0, 0, x^5*z + R_040*x^4]  + terms in y\n"
     ]
    }
   ],
   "source": [
    "X4_xx=X3_x.blowup_ax([0,0,0],[3],2,out_map=True)\n",
    "print('***** Characteristic direction [0,1,0]\\n')\n",
    "X4_xx.print_ttti_exp([0,0,0],18,sep_fact=True,rem_fact=True)\n",
    "print('\\n\\n*** Homogeneous parts from degree %d to %d, saturated wrt y=0\\n'%(list(X4_xx.get_first_hom())[0],list(X4_xx.get_first_hom())[0]+3))\n",
    "print([ss.subs(y=0) for ss in X4_xx.get_sat_first_hom([0,0,0], div=y,prec=4)], \" + terms in y\")"
   ]
  },
  {
   "cell_type": "code",
   "execution_count": 15,
   "metadata": {},
   "outputs": [
    {
     "name": "stdout",
     "output_type": "stream",
     "text": [
      "***** Characteristic direction [0,0,1]\n",
      "\n",
      "*** Expansion around the point [0, 0, 0] up to order 18\n",
      "\n",
      "x + x^3*y^2*z^7 * (   2\n",
      "                    - x + (-R_040)*y\n",
      "                    + 2*P_040*y*z\n",
      "                    + (-2)*x*z^2\n",
      "                    + x^2*z^2\n",
      "                    - x^3*z^2\n",
      "                    + ... )\n",
      "y + x^2*y^3*z^7 * (   1\n",
      "                    + (-2)*x + (-2*R_040)*y\n",
      "                    + P_040*y*z\n",
      "                    - x*z^2\n",
      "                    + 2*x^2*z^2\n",
      "                    + 2*x^3*z^2\n",
      "                    + ... )\n",
      "z + x^2*y^2*z^8 * ( - 1\n",
      "                    + x + R_040*y\n",
      "                    + (-P_040)*y*z\n",
      "                    + x*z^2\n",
      "                    - x^2*z^2\n",
      "                    + ... )\n",
      "\n",
      "\n",
      "*** Common factor of terms from degree [15, 15, 15] by component\n",
      "*** Excluding the common factors [x^3*y^2*z^7, x^2*y^3*z^7, x^2*y^2*z^8]\n",
      "\n",
      "In the x component: x*z^2\n",
      "In the y component: x*z^2\n",
      "In the z component: x*z^2\n",
      "\n",
      "\n",
      "*** Constant part, saturated wrt xz=0, at a point [0,y0,0]\n",
      "\n",
      "[0, -2*R_040*y0^4 + y0^3, 0]\n"
     ]
    }
   ],
   "source": [
    "X4_zy=X3_z.blowup_ax([0,0,0],[1],3,out_map=True)\n",
    "print('***** Characteristic direction [0,0,1]\\n')\n",
    "X4_zy.print_ttti_exp([0,0,0],18,sep_fact=True,rem_fact=True)\n",
    "print('\\n\\n*** Constant part, saturated wrt xz=0, at a point [0,y0,0]\\n')\n",
    "print([(lambda x: factor(x) if x!=0 else 0)(X4_zy.PolRing.ideal([x,y,z]).reduce(ss)) for ss in X4_zy.get_sat_first_hom([0,y0,0],div=x*z, prec=4)])"
   ]
  },
  {
   "cell_type": "code",
   "execution_count": 16,
   "metadata": {},
   "outputs": [
    {
     "name": "stdout",
     "output_type": "stream",
     "text": [
      "\n",
      "\n",
      "*** Homogeneous parts of lower degree, saturated wrt xz=0, at a point [0,1/2R_040,0]\n",
      "\n",
      "[3/2*x, -y - x/R_040 + 1/4*P_040*z/R_040^2, -1/2*z]\n"
     ]
    }
   ],
   "source": [
    "print('\\n\\n*** Homogeneous parts of lower degree, saturated wrt xz=0, at a point [0,1/2R_040,0]\\n')\n",
    "print([(ss*4*R_040^2).expand() for ss in X4_zy.get_sat_first_hom([0,1/(2*R_040),0],div=x*z, prec=1)])"
   ]
  },
  {
   "cell_type": "code",
   "execution_count": 17,
   "metadata": {},
   "outputs": [
    {
     "name": "stdout",
     "output_type": "stream",
     "text": [
      "***** Characteristic direction [0,1,0]\n",
      "\n",
      "*** Expansion around the point [0, 0, 0] up to order 18\n",
      "\n",
      "x + x^3*y^7*z^4 * ( - R_040\n",
      "                    + 2*z\n",
      "                    - x*z + 2*P_040*y*z\n",
      "                    + ... )\n",
      "y + x^2*y^8*z^4 * ( - R_040\n",
      "                    - x*z\n",
      "                    + ... )\n",
      "z + x^2*y^7*z^5 * (   2*R_040\n",
      "                    - z\n",
      "                    + 2*x*z + (-P_040)*y*z\n",
      "                    + ... )\n",
      "\n",
      "\n",
      "*** Common factor of terms from degree [17, 17, 17] by component\n",
      "*** Excluding the common factors [x^3*y^7*z^4, x^2*y^8*z^4, x^2*y^7*z^5]\n",
      "\n",
      "In the x component: 0\n",
      "In the y component: 0\n",
      "In the z component: 0\n",
      "\n",
      "\n",
      "*** Homogeneous part of lowest degree, saturated\n",
      "\n",
      "[(-R_040)*x, (-R_040)*y, 2*R_040*z]\n"
     ]
    }
   ],
   "source": [
    "X4_zz=X3_z.blowup_ax([0,0,0],[1],2,out_map=True)\n",
    "print('***** Characteristic direction [0,1,0]\\n')\n",
    "X4_zz.print_ttti_exp([0,0,0],18,sep_fact=True,rem_fact=True)\n",
    "print('\\n\\n*** Homogeneous part of lowest degree, saturated\\n')\n",
    "print(X4_zz.get_sat_first_hom([0,0,0],div=0, prec=1))"
   ]
  },
  {
   "cell_type": "markdown",
   "metadata": {},
   "source": [
    "### Further blow-up in p3"
   ]
  },
  {
   "cell_type": "code",
   "execution_count": 18,
   "metadata": {},
   "outputs": [
    {
     "name": "stdout",
     "output_type": "stream",
     "text": [
      "*** Homogeneous part of lowest degree, staurated\n",
      "[(P_004 + P_040 - R_040 - R_004)*z, 2*x - y + (Q_004 - R_040 - R_004)*z, 0]\n"
     ]
    }
   ],
   "source": [
    "X1_p3=X1_z.translate([1,1,0],out_map=True)\n",
    "lin_part_p3=X1_p3.get_sat_first_hom([0,0,0])\n",
    "print('*** Homogeneous part of lowest degree, staurated')\n",
    "print(lin_part_p3)"
   ]
  },
  {
   "cell_type": "markdown",
   "metadata": {},
   "source": [
    "In case $\\alpha=P^{(4)}(1,1,1)-R^{(4)}(1,1,1)\\neq 0$, the set of singular directions has dimension 0."
   ]
  },
  {
   "cell_type": "code",
   "execution_count": 19,
   "metadata": {},
   "outputs": [
    {
     "name": "stdout",
     "output_type": "stream",
     "text": [
      "*** Characteristid directions when alpha!=0\n",
      "[0, 1, 0]\n",
      "[1, 2, 0]\n"
     ]
    }
   ],
   "source": [
    "M=Matrix([[l.monomial_coefficient(mon) for mon in [X1_p3.PolRing(x),X1_p3.PolRing(y),X1_p3.PolRing(z)]] for l in lin_part_p3])\n",
    "print('*** Characteristid directions when alpha!=0')\n",
    "for h in M.eigenvectors_right():\n",
    "    print(list(h[1][0]))"
   ]
  },
  {
   "cell_type": "code",
   "execution_count": 20,
   "metadata": {},
   "outputs": [
    {
     "name": "stdout",
     "output_type": "stream",
     "text": [
      "***** Blow-up at p3,1=[0,1,0]\n",
      "***** Characteristic direction [0,1,0]\n",
      "\n",
      "*** Expansion around the point [0, 0, 0] up to order 10\n",
      "\n",
      "x + y^2*z^2 * (   x + y + (P_004 + P_040 - R_040 - R_004)*z\n",
      "                + (-2)*x^2 - x*y + (-Q_004 + R_040 + R_004)*x*z + (4*P_040 - 4*R_040)*y*z\n",
      "                + x^2*y + 4*R_040*x*y*z + (6*P_040 - 6*R_040)*y^2*z\n",
      "                + (-3)*x^3*y + 6*R_040*x*y^2*z + (4*P_040 - 4*R_040)*y^3*z\n",
      "                + 4*R_040*x*y^3*z + (P_040 - R_040)*y^4*z + x*y^2*z^2 + y^3*z^2 + (P_004 + P_040 - R_040 - R_004)*y^2*z^3\n",
      "                - x^4*y^2 + R_040*x*y^4*z + (-4)*x^2*y^2*z^2 + (-3)*x*y^3*z^2 + (-2*P_004 - 2*P_040 - 2*Q_004 + 4*R_040 + 4*R_004)*x*y^2*z^3 + (4*P_040 - Q_004 - 3*R_040 + R_004)*y^3*z^3 + (-P_004*Q_004 - P_040*Q_004 + P_004*R_040 + P_040*R_040 + Q_004*R_040 - R_040^2 + P_004*R_004 + P_040*R_004 + Q_004*R_004 - 2*R_040*R_004 - R_004^2)*y^2*z^4\n",
      "                + ... )\n",
      "y + y^3*z^2 * ( - 1\n",
      "                + 2*x - y + (Q_004 - R_040 - R_004)*z\n",
      "                - x*y + (-5*R_040 - R_004)*y*z\n",
      "                + 3*x^2*y - x*y^2 + (-10*R_040)*y^2*z\n",
      "                + (-10*R_040)*y^3*z\n",
      "                + x^3*y^2 + (-5*R_040)*y^4*z + y^3*z^2\n",
      "                + ... )\n",
      "z + y^2*z^3 * (   1\n",
      "                + (-2)*x + 2*y + (-Q_004 + R_040 + R_004)*z\n",
      "                + x*y + (6*R_040 + 2*R_004)*y*z\n",
      "                + (-3)*x^2*y + 2*x*y^2 + 14*R_040*y^2*z\n",
      "                + 16*R_040*y^3*z + y^2*z^2\n",
      "                - x^3*y^2 + 9*R_040*y^4*z + (-4)*x*y^2*z^2 + 2*y^3*z^2 + (-2*Q_004 + 2*R_040 + 2*R_004)*y^2*z^3\n",
      "                + ... )\n",
      "\n",
      "\n",
      "*** Common factor of terms from degree [7, 8, 8] by component\n",
      "*** Excluding the common factors [y^2*z^2, y^3*z^2, y^2*z^3]\n",
      "\n",
      "In the x component: y\n",
      "In the y component: y\n",
      "In the z component: y\n",
      "\n",
      "\n",
      "*** Homogeneous part of lowest degree, saturated\n",
      "\n",
      "[x + y + (P_004 + P_040 - R_040 - R_004)*z, -y, z]\n"
     ]
    }
   ],
   "source": [
    "print('***** Blow-up at p3,1=[0,1,0]')\n",
    "X5_p31=X1_p3.blowup([0,0,0],2,out_map=True)\n",
    "print('***** Characteristic direction [0,1,0]\\n')\n",
    "X5_p31.print_ttti_exp([0,0,0],10,sep_fact=True,rem_fact=True)\n",
    "print('\\n\\n*** Homogeneous part of lowest degree, saturated\\n')\n",
    "print(X5_p31.get_sat_first_hom([0,0,0],div=0, prec=1))"
   ]
  },
  {
   "cell_type": "code",
   "execution_count": 21,
   "metadata": {},
   "outputs": [
    {
     "name": "stdout",
     "output_type": "stream",
     "text": [
      "***** Characteristic direction [1,2,0]\n",
      "\n",
      "*** Expansion around the point [0, 0, 0] up to order 8\n",
      "\n",
      "x + y^2*z^2 * ( - x + 3/8*y + (P_004 + P_040 - 1/2*Q_004 - 1/2*R_040 - 1/2*R_004)*z\n",
      "                + (-2)*x^2 + (-9/4)*x*y + (-1/16)*y^2 + (-Q_004 + R_040 + R_004)*x*z + (4*P_040 - 2*R_040)*y*z\n",
      "                + (-7/2)*x^2*y + (-1/2)*x*y^2 + 4*R_040*x*y*z + (6*P_040 - 3*R_040)*y^2*z\n",
      "                + (-3)*x^3*y + (-3/2)*x^2*y^2 + 6*R_040*x*y^2*z + (4*P_040 - 2*R_040)*y^3*z\n",
      "                + ... )\n",
      "y + y^3*z^2 * (   2*x + (-3/4)*y + (Q_004 - R_040 - R_004)*z\n",
      "                + 2*x*y + (-3/8)*y^2 + (-5*R_040 - R_004)*y*z\n",
      "                + 3*x^2*y + (-1/4)*x*y^2 + (-10*R_040)*y^2*z\n",
      "                + ... )\n",
      "z + y^2*z^3 * (   (-2)*x + 7/4*y + (-Q_004 + R_040 + R_004)*z\n",
      "                + (-2)*x*y + 7/8*y^2 + (6*R_040 + 2*R_004)*y*z\n",
      "                + (-3)*x^2*y + 5/4*x*y^2 + 14*R_040*y^2*z\n",
      "                + ... )\n",
      "\n",
      "\n",
      "*** Common factor of terms from degree [7, 8, 8] by component\n",
      "*** Excluding the common factors [y^2*z^2, y^3*z^2, y^2*z^3]\n",
      "\n",
      "In the x component: y\n",
      "In the y component: 12*x^2*y - x*y^2 + (-40*R_040)*y^2*z\n",
      "In the z component: 12*x^2*y + (-5)*x*y^2 + (-56*R_040)*y^2*z\n",
      "\n",
      "\n",
      "*** Homogeneous part of lowest degree, saturated\n",
      "\n",
      "[-x + 3/8*y + (P_004 + P_040 - 1/2*Q_004 - 1/2*R_040 - 1/2*R_004)*z, 0, 0]\n"
     ]
    }
   ],
   "source": [
    "print('***** Characteristic direction [1,2,0]\\n')\n",
    "X5_p32=X5_p31.translate([1/2,0,0],out_map=True)\n",
    "X5_p32.print_ttti_exp([0,0,0],8,sep_fact=True,rem_fact=True)\n",
    "print('\\n\\n*** Homogeneous part of lowest degree, saturated\\n')\n",
    "print(X5_p32.get_sat_first_hom([0,0,0],div=0, prec=1))"
   ]
  },
  {
   "cell_type": "markdown",
   "metadata": {},
   "source": [
    "### Change of coordinates at p1"
   ]
  },
  {
   "cell_type": "code",
   "execution_count": 22,
   "metadata": {},
   "outputs": [
    {
     "name": "stdout",
     "output_type": "stream",
     "text": [
      "*** Expansion around the point [0, 0, 0] up to order 8\n",
      "\n",
      "x + z^2 * ( - x + (P_004 + Q_004)*z\n",
      "            + 3/4*x^2 + 1/4*y^2 + (-R_004)*x*z\n",
      "            + (-1/8)*x^3 + 3/8*x^2*y + 5/8*x*y^2 + 1/8*y^3\n",
      "            + (-1/2)*x^2*z^2 + (-1/2)*x*y*z^2 + (1/2*P_004 + 1/2*Q_004 + R_004)*x*z^3 + (1/2*P_004 + 1/2*Q_004)*y*z^3 + (-P_004*R_004 - Q_004*R_004)*z^4\n",
      "            + 1/16*P_040*x^4*z + (-1/4*P_040)*x^3*y*z + 3/8*P_040*x^2*y^2*z + (-1/4*P_040)*x*y^3*z + 1/16*P_040*y^4*z + 5/8*x^3*z^2 + 3/8*x^2*y*z^2 + (-1/8)*x*y^2*z^2 + 1/8*y^3*z^2 + (-1/4*P_004 - 1/4*Q_004 - 5/4*R_004)*x^2*z^3 + (-1/2*R_004)*x*y*z^3 + (1/4*P_004 + 1/4*Q_004 - 1/4*R_004)*y^2*z^3 + R_004^2*x*z^4\n",
      "            + (-1/16*R_040)*x^5*z + 1/4*R_040*x^4*y*z + (-3/8*R_040)*x^3*y^2*z + 1/4*R_040*x^2*y^3*z + (-1/16*R_040)*x*y^4*z + (-1/4)*x^4*z^2 + 1/8*x^3*y*z^2 + 5/8*x^2*y^2*z^2 + 3/8*x*y^3*z^2 + 1/8*y^4*z^2 + 3/8*R_004*x^3*z^3 + (-3/8*R_004)*x^2*y*z^3 + (-7/8*R_004)*x*y^2*z^3 + (-1/8*R_004)*y^3*z^3\n",
      "            + ... )\n",
      "y + z^2 * (   y + (P_004 - Q_004)*z\n",
      "            + 1/4*x^2 + 3/4*y^2 + (-R_004)*y*z\n",
      "            + (-1/8)*x^3 + (-5/8)*x^2*y + (-3/8)*x*y^2 + 1/8*y^3\n",
      "            + 1/2*x*y*z^2 + 1/2*y^2*z^2 + (1/2*P_004 - 1/2*Q_004)*x*z^3 + (1/2*P_004 - 1/2*Q_004 - R_004)*y*z^3 + (-P_004*R_004 + Q_004*R_004)*z^4\n",
      "            + 1/16*P_040*x^4*z + (-1/4*P_040)*x^3*y*z + 3/8*P_040*x^2*y^2*z + (-1/4*P_040)*x*y^3*z + 1/16*P_040*y^4*z + 1/8*x^3*z^2 + (-1/8)*x^2*y*z^2 + 3/8*x*y^2*z^2 + 5/8*y^3*z^2 + (-1/4*P_004 + 1/4*Q_004 - 1/4*R_004)*x^2*z^3 + (-1/2*R_004)*x*y*z^3 + (1/4*P_004 - 1/4*Q_004 - 5/4*R_004)*y^2*z^3 + R_004^2*y*z^4\n",
      "            + (-1/16*R_040)*x^4*y*z + 1/4*R_040*x^3*y^2*z + (-3/8*R_040)*x^2*y^3*z + 1/4*R_040*x*y^4*z + (-1/16*R_040)*y^5*z + (-1/8)*x^4*z^2 + (-3/8)*x^3*y*z^2 + (-5/8)*x^2*y^2*z^2 + (-1/8)*x*y^3*z^2 + 1/4*y^4*z^2 + 1/8*R_004*x^3*z^3 + 7/8*R_004*x^2*y*z^3 + 3/8*R_004*x*y^2*z^3 + (-3/8*R_004)*y^3*z^3\n",
      "            + ... )\n",
      "z + z^3 * (   (-1/2)*x + (-1/2)*y + R_004*z\n",
      "            + 1/4*x^2 + (-1/4)*y^2\n",
      "            + 1/16*R_040*x^4*z + (-1/4*R_040)*x^3*y*z + 3/8*R_040*x^2*y^2*z + (-1/4*R_040)*x*y^3*z + 1/16*R_040*y^4*z\n",
      "            + ... )\n",
      "\n",
      "\n",
      "*** Common factor of terms from degree [5, 5, 6] by component\n",
      "*** Excluding the common factors [z^2, z^2, z^3]\n",
      "\n",
      "In the x component: 1\n",
      "In the y component: 1\n",
      "In the z component: x^4*z + (-4)*x^3*y*z + 6*x^2*y^2*z + (-4)*x*y^3*z + y^4*z\n"
     ]
    }
   ],
   "source": [
    "M=Matrix([[1,1,0],[1,-1,0],[0,0,1]]).inverse()\n",
    "X1_z_1=X1_z.lin_change([0,0,0],M,out_map=True)\n",
    "X1_z_1.print_ttti_exp([0,0,0],8,sep_fact=True,rem_fact=True)"
   ]
  },
  {
   "cell_type": "code",
   "execution_count": 23,
   "metadata": {},
   "outputs": [
    {
     "name": "stdout",
     "output_type": "stream",
     "text": [
      "*** Expansion around the point [0, 0, 0] up to order 9\n",
      "\n",
      "x + z^2 * ( - x\n",
      "            + 3/4*x^2 + 1/4*y^2 + (2*P_004 + 2*Q_004 - R_004)*x*z + Q_004*y*z + (P_004^2 + 2*P_004*Q_004 + 2*Q_004^2 - 2*P_004*R_004 - 2*Q_004*R_004)*z^2\n",
      "            + (-1/8)*x^3 + 3/8*x^2*y + 5/8*x*y^2 + 1/8*y^3 + (-P_004 - 1/4*Q_004)*x^2*z + (-1/2*P_004 + 2*Q_004)*x*y*z + (1/2*P_004 + 5/4*Q_004)*y^2*z + (-P_004^2 - 3*P_004*Q_004 + 1/2*Q_004^2)*x*z^2 + (-P_004^2 + 5/2*Q_004^2)*y*z^2 + (-2*P_004^2*Q_004 - 2*P_004*Q_004^2 + Q_004^3)*z^3\n",
      "            + (-1/2)*x^2*z^2 + (-1/2)*x*y*z^2 + (-Q_004 + R_004)*x*z^3\n",
      "            + 1/16*P_040*x^4*z + (-1/4*P_040)*x^3*y*z + 3/8*P_040*x^2*y^2*z + (-1/4*P_040)*x*y^3*z + 1/16*P_040*y^4*z + (1/2*P_004*P_040 + 5/8)*x^3*z^2 + (-3/2*P_004*P_040 + 3/8)*x^2*y*z^2 + (3/2*P_004*P_040 - 1/8)*x*y^2*z^2 + (-1/2*P_004*P_040 + 1/8)*y^3*z^2 + (3/2*P_004^2*P_040 + 5/4*P_004 + 2*Q_004 - 5/4*R_004)*x^2*z^3 + (-3*P_004^2*P_040 + P_004 + 1/2*Q_004 - 1/2*R_004)*x*y*z^3 + (3/2*P_004^2*P_040 - 1/4*P_004 + 1/2*Q_004 - 1/4*R_004)*y^2*z^3 + (2*P_004^3*P_040 + 1/2*P_004^2 + 3*P_004*Q_004 + 2*Q_004^2 - 2*P_004*R_004 - 3*Q_004*R_004 + R_004^2)*x*z^4 + (-2*P_004^3*P_040 + 1/2*P_004^2 + Q_004^2 - Q_004*R_004)*y*z^4 + (P_004^4*P_040 + P_004^2*Q_004 + P_004*Q_004^2 + Q_004^3 - P_004^2*R_004 - 2*P_004*Q_004*R_004 - 2*Q_004^2*R_004 + P_004*R_004^2 + Q_004*R_004^2)*z^5\n",
      "            + (-1/16*R_040)*x^5*z + 1/4*R_040*x^4*y*z + (-3/8*R_040)*x^3*y^2*z + 1/4*R_040*x^2*y^3*z + (-1/16*R_040)*x*y^4*z + (-5/8*P_004*R_040 - 1/8*Q_004*R_040 - 1/4)*x^4*z^2 + (2*P_004*R_040 + 1/2*Q_004*R_040 + 1/8)*x^3*y*z^2 + (-9/4*P_004*R_040 - 3/4*Q_004*R_040 + 5/8)*x^2*y^2*z^2 + (P_004*R_040 + 1/2*Q_004*R_040 + 3/8)*x*y^3*z^2 + (-1/8*P_004*R_040 - 1/8*Q_004*R_040 + 1/8)*y^4*z^2 + (-5/2*P_004^2*R_040 - P_004*Q_004*R_040 - 9/8*P_004 - 7/8*Q_004 + 3/8*R_004)*x^3*z^3 + (6*P_004^2*R_040 + 3*P_004*Q_004*R_040 - 7/8*P_004 + 13/8*Q_004 - 3/8*R_004)*x^2*y*z^3 + (-9/2*P_004^2*R_040 - 3*P_004*Q_004*R_040 + 1/8*P_004 + 19/8*Q_004 - 7/8*R_004)*x*y^2*z^3 + (P_004^2*R_040 + P_004*Q_004*R_040 - 1/8*P_004 + 7/8*Q_004 - 1/8*R_004)*y^3*z^3 + (-5*P_004^3*R_040 - 3*P_004^2*Q_004*R_040 - 5/4*P_004^2 - 17/4*P_004*Q_004 - 1/2*Q_004^2 + 3/2*P_004*R_004 + 3/4*Q_004*R_004)*x^2*z^4 + (8*P_004^3*R_040 + 6*P_004^2*Q_004*R_040 - P_004^2 - 3/2*P_004*Q_004 + 4*Q_004^2 + P_004*R_004 - 5/2*Q_004*R_004)*x*y*z^4 + (-3*P_004^3*R_040 - 3*P_004^2*Q_004*R_040 + 1/4*P_004^2 - 1/4*P_004*Q_004 + 5/2*Q_004^2 - 1/2*P_004*R_004 - 5/4*Q_004*R_004)*y^2*z^4 + (-5*P_004^4*R_040 - 4*P_004^3*Q_004*R_040 - 1/2*P_004^3 - 7/2*P_004^2*Q_004 - 5*P_004*Q_004^2 + Q_004^3 + P_004^2*R_004 + 4*P_004*Q_004*R_004 - 1/2*Q_004^2*R_004)*x*z^5 + (4*P_004^4*R_040 + 4*P_004^3*Q_004*R_040 - 1/2*P_004^3 - 1/2*P_004^2*Q_004 - P_004*Q_004^2 + 3*Q_004^3 + P_004^2*R_004 - 5/2*Q_004^2*R_004)*y*z^5 + (-2*P_004^5*R_040 - 2*P_004^4*Q_004*R_040 - P_004^3*Q_004 - 2*P_004^2*Q_004^2 - 2*P_004*Q_004^3 + Q_004^4 + 2*P_004^2*Q_004*R_004 + 2*P_004*Q_004^2*R_004 - Q_004^3*R_004)*z^6\n",
      "            + 1/32*x^5*z^2 + (-3/32)*x^4*y*z^2 + (-3/16)*x^3*y^2*z^2 + 1/16*x^2*y^3*z^2 + 5/32*x*y^4*z^2 + 1/32*y^5*z^2 + (1/4*P_004 + 1/16*Q_004)*x^4*z^3 + (-3/4*Q_004)*x^3*y*z^3 + (-3/4*P_004 - 3/8*Q_004)*x^2*y^2*z^3 + (-1/2*P_004 + 3/4*Q_004)*x*y^3*z^3 + 5/16*Q_004*y^4*z^3 + (1/2*P_004^2 + P_004*Q_004 - 1/4*Q_004^2 - 1/4)*x^3*z^4 + (3/4*P_004^2 - 3/2*P_004*Q_004 - 3/2*Q_004^2 - 1/2)*x^2*y*z^4 + (-3*P_004*Q_004 + 3/4*Q_004^2 - 1/4)*x*y^2*z^4 + (-1/4*P_004^2 - 1/2*P_004*Q_004 + Q_004^2)*y^3*z^4 + (1/4*P_004^3 + 9/4*P_004^2*Q_004 + 3/4*P_004*Q_004^2 - 3/4*Q_004^3 - Q_004 + R_004)*x^2*z^5 + (1/2*P_004^3 + 3/2*P_004^2*Q_004 - 9/2*P_004*Q_004^2 - 1/2*Q_004^3 - Q_004 + R_004)*x*y*z^5 + (1/4*P_004^3 - 3/4*P_004^2*Q_004 - 9/4*P_004*Q_004^2 + 5/4*Q_004^3)*y^2*z^5 + (P_004^3*Q_004 + 3*P_004^2*Q_004^2 - P_004*Q_004^3 - 1/2*Q_004^4 - Q_004^2 + 2*Q_004*R_004 - R_004^2)*x*z^6 + (P_004^3*Q_004 - 3*P_004*Q_004^3 + 1/2*Q_004^4)*y*z^6 + (P_004^3*Q_004^2 + P_004^2*Q_004^3 - P_004*Q_004^4)*z^7\n",
      "            + ... )\n",
      "y + z^2 * (   y\n",
      "            + 1/4*x^2 + 3/4*y^2 + Q_004*x*z + (-2*P_004 + 2*Q_004 - R_004)*y*z + (P_004^2 - 2*P_004*Q_004 + 2*Q_004^2 + 2*P_004*R_004 - 2*Q_004*R_004)*z^2\n",
      "            + (-1/8)*x^3 + (-5/8)*x^2*y + (-3/8)*x*y^2 + 1/8*y^3 + (1/2*P_004 - 5/4*Q_004)*x^2*z + (-1/2*P_004 - 2*Q_004)*x*y*z + (-P_004 + 1/4*Q_004)*y^2*z + (P_004^2 - 5/2*Q_004^2)*x*z^2 + (P_004^2 - 3*P_004*Q_004 - 1/2*Q_004^2)*y*z^2 + (2*P_004^2*Q_004 - 2*P_004*Q_004^2 - Q_004^3)*z^3\n",
      "            + 1/2*x*y*z^2 + 1/2*y^2*z^2 + (Q_004 - R_004)*y*z^3\n",
      "            + 1/16*P_040*x^4*z + (-1/4*P_040)*x^3*y*z + 3/8*P_040*x^2*y^2*z + (-1/4*P_040)*x*y^3*z + 1/16*P_040*y^4*z + (1/2*P_004*P_040 + 1/8)*x^3*z^2 + (-3/2*P_004*P_040 - 1/8)*x^2*y*z^2 + (3/2*P_004*P_040 + 3/8)*x*y^2*z^2 + (-1/2*P_004*P_040 + 5/8)*y^3*z^2 + (3/2*P_004^2*P_040 + 1/4*P_004 + 1/2*Q_004 - 1/4*R_004)*x^2*z^3 + (-3*P_004^2*P_040 - P_004 + 1/2*Q_004 - 1/2*R_004)*x*y*z^3 + (3/2*P_004^2*P_040 - 5/4*P_004 + 2*Q_004 - 5/4*R_004)*y^2*z^3 + (2*P_004^3*P_040 + 1/2*P_004^2 + Q_004^2 - Q_004*R_004)*x*z^4 + (-2*P_004^3*P_040 + 1/2*P_004^2 - 3*P_004*Q_004 + 2*Q_004^2 + 2*P_004*R_004 - 3*Q_004*R_004 + R_004^2)*y*z^4 + (P_004^4*P_040 + P_004^2*Q_004 - P_004*Q_004^2 + Q_004^3 - P_004^2*R_004 + 2*P_004*Q_004*R_004 - 2*Q_004^2*R_004 - P_004*R_004^2 + Q_004*R_004^2)*z^5\n",
      "            + (-1/16*R_040)*x^4*y*z + 1/4*R_040*x^3*y^2*z + (-3/8*R_040)*x^2*y^3*z + 1/4*R_040*x*y^4*z + (-1/16*R_040)*y^5*z + (1/8*P_004*R_040 - 1/8*Q_004*R_040 - 1/8)*x^4*z^2 + (-P_004*R_040 + 1/2*Q_004*R_040 - 3/8)*x^3*y*z^2 + (9/4*P_004*R_040 - 3/4*Q_004*R_040 - 5/8)*x^2*y^2*z^2 + (-2*P_004*R_040 + 1/2*Q_004*R_040 - 1/8)*x*y^3*z^2 + (5/8*P_004*R_040 - 1/8*Q_004*R_040 + 1/4)*y^4*z^2 + (P_004^2*R_040 - P_004*Q_004*R_040 - 1/8*P_004 - 7/8*Q_004 + 1/8*R_004)*x^3*z^3 + (-9/2*P_004^2*R_040 + 3*P_004*Q_004*R_040 + 1/8*P_004 - 19/8*Q_004 + 7/8*R_004)*x^2*y*z^3 + (6*P_004^2*R_040 - 3*P_004*Q_004*R_040 - 7/8*P_004 - 13/8*Q_004 + 3/8*R_004)*x*y^2*z^3 + (-5/2*P_004^2*R_040 + P_004*Q_004*R_040 - 9/8*P_004 + 7/8*Q_004 - 3/8*R_004)*y^3*z^3 + (3*P_004^3*R_040 - 3*P_004^2*Q_004*R_040 - 1/4*P_004^2 - 1/4*P_004*Q_004 - 5/2*Q_004^2 - 1/2*P_004*R_004 + 5/4*Q_004*R_004)*x^2*z^4 + (-8*P_004^3*R_040 + 6*P_004^2*Q_004*R_040 + P_004^2 - 3/2*P_004*Q_004 - 4*Q_004^2 + P_004*R_004 + 5/2*Q_004*R_004)*x*y*z^4 + (5*P_004^3*R_040 - 3*P_004^2*Q_004*R_040 + 5/4*P_004^2 - 17/4*P_004*Q_004 + 1/2*Q_004^2 + 3/2*P_004*R_004 - 3/4*Q_004*R_004)*y^2*z^4 + (4*P_004^4*R_040 - 4*P_004^3*Q_004*R_040 - 1/2*P_004^3 + 1/2*P_004^2*Q_004 - P_004*Q_004^2 - 3*Q_004^3 - P_004^2*R_004 + 5/2*Q_004^2*R_004)*x*z^5 + (-5*P_004^4*R_040 + 4*P_004^3*Q_004*R_040 - 1/2*P_004^3 + 7/2*P_004^2*Q_004 - 5*P_004*Q_004^2 - Q_004^3 - P_004^2*R_004 + 4*P_004*Q_004*R_004 + 1/2*Q_004^2*R_004)*y*z^5 + (2*P_004^5*R_040 - 2*P_004^4*Q_004*R_040 - P_004^3*Q_004 + 2*P_004^2*Q_004^2 - 2*P_004*Q_004^3 - Q_004^4 - 2*P_004^2*Q_004*R_004 + 2*P_004*Q_004^2*R_004 + Q_004^3*R_004)*z^6\n",
      "            + 1/32*x^5*z^2 + 5/32*x^4*y*z^2 + 1/16*x^3*y^2*z^2 + (-3/16)*x^2*y^3*z^2 + (-3/32)*x*y^4*z^2 + 1/32*y^5*z^2 + 5/16*Q_004*x^4*z^3 + (1/2*P_004 + 3/4*Q_004)*x^3*y*z^3 + (3/4*P_004 - 3/8*Q_004)*x^2*y^2*z^3 + (-3/4*Q_004)*x*y^3*z^3 + (-1/4*P_004 + 1/16*Q_004)*y^4*z^3 + (-1/4*P_004^2 + 1/2*P_004*Q_004 + Q_004^2)*x^3*z^4 + (3*P_004*Q_004 + 3/4*Q_004^2 + 1/4)*x^2*y*z^4 + (3/4*P_004^2 + 3/2*P_004*Q_004 - 3/2*Q_004^2 + 1/2)*x*y^2*z^4 + (1/2*P_004^2 - P_004*Q_004 - 1/4*Q_004^2 + 1/4)*y^3*z^4 + (-1/4*P_004^3 - 3/4*P_004^2*Q_004 + 9/4*P_004*Q_004^2 + 5/4*Q_004^3)*x^2*z^5 + (-1/2*P_004^3 + 3/2*P_004^2*Q_004 + 9/2*P_004*Q_004^2 - 1/2*Q_004^3 + Q_004 - R_004)*x*y*z^5 + (-1/4*P_004^3 + 9/4*P_004^2*Q_004 - 3/4*P_004*Q_004^2 - 3/4*Q_004^3 + Q_004 - R_004)*y^2*z^5 + (-P_004^3*Q_004 + 3*P_004*Q_004^3 + 1/2*Q_004^4)*x*z^6 + (-P_004^3*Q_004 + 3*P_004^2*Q_004^2 + P_004*Q_004^3 - 1/2*Q_004^4 + Q_004^2 - 2*Q_004*R_004 + R_004^2)*y*z^6 + (-P_004^3*Q_004^2 + P_004^2*Q_004^3 + P_004*Q_004^4)*z^7\n",
      "            + ... )\n",
      "z + z^3 * (   (-1/2)*x + (-1/2)*y + (-Q_004 + R_004)*z\n",
      "            + 1/4*x^2 + (-1/4)*y^2 + (1/2*P_004 + 1/2*Q_004)*x*z + (1/2*P_004 - 1/2*Q_004)*y*z + P_004*Q_004*z^2\n",
      "            + 1/16*R_040*x^4*z + (-1/4*R_040)*x^3*y*z + 3/8*R_040*x^2*y^2*z + (-1/4*R_040)*x*y^3*z + 1/16*R_040*y^4*z + 1/2*P_004*R_040*x^3*z^2 + (-3/2*P_004*R_040)*x^2*y*z^2 + 3/2*P_004*R_040*x*y^2*z^2 + (-1/2*P_004*R_040)*y^3*z^2 + 3/2*P_004^2*R_040*x^2*z^3 + (-3*P_004^2*R_040)*x*y*z^3 + 3/2*P_004^2*R_040*y^2*z^3 + 2*P_004^3*R_040*x*z^4 + (-2*P_004^3*R_040)*y*z^4 + P_004^4*R_040*z^5\n",
      "            + ... )\n",
      "\n",
      "\n",
      "*** Common factor of terms from degree [5, 5, 6] by component\n",
      "*** Excluding the common factors [z^2, z^2, z^3]\n",
      "\n"
     ]
    },
    {
     "name": "stdout",
     "output_type": "stream",
     "text": [
      "In the x component: 1\n",
      "In the y component: 1\n",
      "In the z component: x^4*z + (-4)*x^3*y*z + 6*x^2*y^2*z + (-4)*x*y^3*z + y^4*z + 8*P_004*x^3*z^2 + (-24*P_004)*x^2*y*z^2 + 24*P_004*x*y^2*z^2 + (-8*P_004)*y^3*z^2 + 24*P_004^2*x^2*z^3 + (-48*P_004^2)*x*y*z^3 + 24*P_004^2*y^2*z^3 + 32*P_004^3*x*z^4 + (-32*P_004^3)*y*z^4 + 16*P_004^4*z^5\n"
     ]
    }
   ],
   "source": [
    "M=Matrix([[1,0,-(P_004 + Q_004)],[0,1,(P_004 - Q_004)],[0,0,1]]).inverse()\n",
    "X1_z_2=X1_z_1.lin_change([0,0,0],M,out_map=True)\n",
    "X1_z_2.print_ttti_exp([0,0,0],9,sep_fact=True,rem_fact=True)"
   ]
  },
  {
   "cell_type": "markdown",
   "metadata": {},
   "source": [
    "### Change of coordinates at p3,2 and blow-up"
   ]
  },
  {
   "cell_type": "code",
   "execution_count": 24,
   "metadata": {},
   "outputs": [
    {
     "name": "stdout",
     "output_type": "stream",
     "text": [
      "*** Expansion around the point [0, 0, 0] up to order 9\n",
      "\n",
      "x + y^2*z^2 * ( - x + 1/2*R_004*z\n",
      "                + 2*x^2 + (-9/2)*x*y + 19/16*y^2 + (-2*P_004 - 2*P_040 + 2*R_040 + R_004)*x*z + (11/2*P_004 + 3/2*P_040 - 2*Q_004 - 3/2*R_040 - 3/4*R_004)*y*z\n",
      "                + 7/2*x^2*y + (-31/8)*x*y^2 + 105/128*y^3 + (-5*P_004 - 5*P_040 + 5/2*Q_004 + 13/2*R_040)*x*y*z + (4*P_004 - 2*P_040 - 2*Q_004 - 19/8*R_040 - 3/8*R_004)*y^2*z + (3/2*P_004^2 + 3*P_004*P_040 + 3/2*P_040^2 - 3/2*P_004*Q_004 - 3/2*P_040*Q_004 + 3/8*Q_004^2 + 1/2*P_004*R_040 + 1/2*P_040*R_040 - 1/4*Q_004*R_040 - 5/8*R_040^2 + 2*P_004*R_004 + 2*P_040*R_004 - Q_004*R_004 - R_040*R_004)*y*z^2\n",
      "                + (-3)*x^3*y + 6*x^2*y^2 + (-201/64)*x*y^3 + 63/128*y^4 + (6*P_004 + 6*P_040 - 3*Q_004 - 3*R_040)*x^2*y*z + (-11*P_004 - 11*P_040 + 11/2*Q_004 + 23/2*R_040)*x*y^2*z + (51/16*P_004 - 13/16*P_040 - 51/32*Q_004 - 179/32*R_040)*y^3*z + (-3*P_004^2 - 6*P_004*P_040 - 3*P_040^2 + 3*P_004*Q_004 + 3*P_040*Q_004 - 3/4*Q_004^2 + 3*P_004*R_040 + 3*P_040*R_040 - 3/2*Q_004*R_040 - 3/4*R_040^2)*x*y*z^2 + (5*P_004^2 + 10*P_004*P_040 + 5*P_040^2 - 5*P_004*Q_004 - 5*P_040*Q_004 + 5/4*Q_004^2 + 3*P_004*R_040 + 3*P_040*R_040 - 3/2*Q_004*R_040 - 11/4*R_040^2)*y^2*z^2\n",
      "                + (-2)*x^3*y^2 + 45/16*x^2*y^3 + (-81/64)*x*y^4 + 189/1024*y^5 + (9/2*P_004 + 9/2*P_040 - 9/4*Q_004 - 9/4*R_040)*x^2*y^2*z + (-9/2*P_004 - 9/2*P_040 + 9/4*Q_004 + 25/4*R_040)*x*y^3*z + (135/128*P_004 + 7/128*P_040 - 135/256*Q_004 - 1351/256*R_040)*y^4*z + (-3*P_004^2 - 6*P_004*P_040 - 3*P_040^2 + 3*P_004*Q_004 + 3*P_040*Q_004 - 3/4*Q_004^2 + 3*P_004*R_040 + 3*P_040*R_040 - 3/2*Q_004*R_040 - 3/4*R_040^2)*x*y^2*z^2 + (27/16*P_004^2 + 27/8*P_004*P_040 + 27/16*P_040^2 - 27/16*P_004*Q_004 - 27/16*P_040*Q_004 + 27/64*Q_004^2 + 165/16*P_004*R_040 + 165/16*P_040*R_040 - 165/32*Q_004*R_040 - 357/64*R_040^2)*y^3*z^2 + (1/2*P_004^3 + 3/2*P_004^2*P_040 + 3/2*P_004*P_040^2 + 1/2*P_040^3 - 3/4*P_004^2*Q_004 - 3/2*P_004*P_040*Q_004 - 3/4*P_040^2*Q_004 + 3/8*P_004*Q_004^2 + 3/8*P_040*Q_004^2 - 1/16*Q_004^3 - 3/4*P_004^2*R_040 - 3/2*P_004*P_040*R_040 - 3/4*P_040^2*R_040 + 3/4*P_004*Q_004*R_040 + 3/4*P_040*Q_004*R_040 - 3/16*Q_004^2*R_040 + 3/8*P_004*R_040^2 + 3/8*P_040*R_040^2 - 3/16*Q_004*R_040^2 - 1/16*R_040^3)*y^2*z^3\n",
      "                + ... )\n",
      "y + y^3*z^2 * (   (-2)*x + (2*P_004 + 2*P_040 - 2*R_040 - R_004)*z\n",
      "                + (-2)*x*y + 3/8*y^2 + (2*P_004 + 2*P_040 - Q_004 - 6*R_040 - R_004)*y*z\n",
      "                + 3*x^2*y + (-2)*x*y^2 + 21/64*y^3 + (-6*P_004 - 6*P_040 + 3*Q_004 + 3*R_040)*x*y*z + (2*P_004 + 2*P_040 - Q_004 - 11*R_040)*y^2*z + (3*P_004^2 + 6*P_004*P_040 + 3*P_040^2 - 3*P_004*Q_004 - 3*P_040*Q_004 + 3/4*Q_004^2 - 3*P_004*R_040 - 3*P_040*R_040 + 3/2*Q_004*R_040 + 3/4*R_040^2)*y*z^2\n",
      "                + 3/2*x^2*y^2 + (-9/8)*x*y^3 + 27/128*y^4 + (-3*P_004 - 3*P_040 + 3/2*Q_004 + 3/2*R_040)*x*y^2*z + (9/8*P_004 + 9/8*P_040 - 9/16*Q_004 - 169/16*R_040)*y^3*z + (3/2*P_004^2 + 3*P_004*P_040 + 3/2*P_040^2 - 3/2*P_004*Q_004 - 3/2*P_040*Q_004 + 3/8*Q_004^2 - 3/2*P_004*R_040 - 3/2*P_040*R_040 + 3/4*Q_004*R_040 + 3/8*R_040^2)*y^2*z^2\n",
      "                + ... )\n",
      "z + y^2*z^3 * (   2*x + y + (-2*P_004 - 2*P_040 + 2*R_040 + R_004)*z\n",
      "                + 2*x*y + 1/8*y^2 + (-2*P_004 - 2*P_040 + Q_004 + 7*R_040 + 2*R_004)*y*z\n",
      "                + (-3)*x^2*y + x*y^2 + 3/64*y^3 + (6*P_004 + 6*P_040 - 3*Q_004 - 3*R_040)*x*y*z + (-P_004 - P_040 + 1/2*Q_004 + 29/2*R_040)*y^2*z + (-3*P_004^2 - 6*P_004*P_040 - 3*P_040^2 + 3*P_004*Q_004 + 3*P_040*Q_004 - 3/4*Q_004^2 + 3*P_004*R_040 + 3*P_040*R_040 - 3/2*Q_004*R_040 - 3/4*R_040^2)*y*z^2\n",
      "                + (-3/2)*x^2*y^2 + 9/8*x*y^3 + (-27/128)*y^4 + (3*P_004 + 3*P_040 - 3/2*Q_004 - 3/2*R_040)*x*y^2*z + (-9/8*P_004 - 9/8*P_040 + 9/16*Q_004 + 265/16*R_040)*y^3*z + (-3/2*P_004^2 - 3*P_004*P_040 - 3/2*P_040^2 + 3/2*P_004*Q_004 + 3/2*P_040*Q_004 - 3/8*Q_004^2 + 3/2*P_004*R_040 + 3/2*P_040*R_040 - 3/4*Q_004*R_040 - 3/8*R_040^2)*y^2*z^2\n",
      "                + ... )\n",
      "\n",
      "\n",
      "*** Common factor of terms from degree [7, 8, 8] by component\n",
      "*** Excluding the common factors [y^2*z^2, y^3*z^2, y^2*z^3]\n",
      "\n",
      "In the x component: y\n",
      "In the y component: y\n",
      "In the z component: y\n"
     ]
    }
   ],
   "source": [
    "M=Matrix([[-1,3/8,(P_004 + P_040 - 1/2*Q_004 - 1/2*R_040)],[0,1,0],[0,0,1]])\n",
    "X5_p32_1=X5_p32.lin_change([0,0,0],M,out_map=True)\n",
    "X5_p32_1.print_ttti_exp([0,0,0],9,sep_fact=True,rem_fact=True)\n"
   ]
  },
  {
   "cell_type": "code",
   "execution_count": 25,
   "metadata": {},
   "outputs": [
    {
     "name": "stdout",
     "output_type": "stream",
     "text": [
      "***** Blow-up at p3,2 - z-chart\n",
      "*** Expansion around the point [0, 0, 0] up to order 12\n",
      "\n",
      "x + y^2*z^4 * (   1/2*R_004\n",
      "                - x\n",
      "                + (11/2*P_004 + 3/2*P_040 - 2*Q_004 - 3/2*R_040 - 3/4*R_004)*y*z\n",
      "                + (-11/2)*x*y*z + 19/16*y^2*z + (3/2*P_004^2 + 3*P_004*P_040 + 3/2*P_040^2 - 3/2*P_004*Q_004 - 3/2*P_040*Q_004 + 3/8*Q_004^2 + 1/2*P_004*R_040 + 1/2*P_040*R_040 - 1/4*Q_004*R_040 - 5/8*R_040^2 + 2*P_004*R_004 + 2*P_040*R_004 - Q_004*R_004 - R_040*R_004)*y*z^2\n",
      "                + (-3*P_004 - 3*P_040 + 3/2*Q_004 - 1/2*R_040 - 2*R_004)*x*y*z^2 + (4*P_004 - 2*P_040 - 2*Q_004 - 19/8*R_040 - 3/8*R_004)*y^2*z^2\n",
      "                + 3/2*x^2*y*z^2 + (-4)*x*y^2*z^2 + 105/128*y^3*z^2 + (5*P_004^2 + 10*P_004*P_040 + 5*P_040^2 - 5*P_004*Q_004 - 5*P_040*Q_004 + 5/4*Q_004^2 + 3*P_004*R_040 + 3*P_040*R_040 - 3/2*Q_004*R_040 - 11/4*R_040^2)*y^2*z^3\n",
      "                + (-10*P_004 - 10*P_040 + 5*Q_004 - 3*R_040)*x*y^2*z^3 + (51/16*P_004 - 13/16*P_040 - 51/32*Q_004 - 179/32*R_040)*y^3*z^3 + (1/2*P_004^3 + 3/2*P_004^2*P_040 + 3/2*P_004*P_040^2 + 1/2*P_040^3 - 3/4*P_004^2*Q_004 - 3/2*P_004*P_040*Q_004 - 3/4*P_040^2*Q_004 + 3/8*P_004*Q_004^2 + 3/8*P_040*Q_004^2 - 1/16*Q_004^3 - 3/4*P_004^2*R_040 - 3/2*P_004*P_040*R_040 - 3/4*P_040^2*R_040 + 3/4*P_004*Q_004*R_040 + 3/4*P_040*Q_004*R_040 - 3/16*Q_004^2*R_040 + 3/8*P_004*R_040^2 + 3/8*P_040*R_040^2 - 3/16*Q_004*R_040^2 - 1/16*R_040^3)*y^2*z^4\n",
      "                + ... )\n",
      "y + y^3*z^5 * (   4*P_004 + 4*P_040 - 4*R_040 - 2*R_004\n",
      "                + (-4)*x - y\n",
      "                + (4*P_004 + 4*P_040 - 2*Q_004 - 13*R_040 - 3*R_004)*y*z\n",
      "                + (-4)*x*y*z + 1/4*y^2*z + (6*P_004^2 + 12*P_004*P_040 + 6*P_040^2 - 6*P_004*Q_004 - 6*P_040*Q_004 + 3/2*Q_004^2 - 6*P_004*R_040 - 6*P_040*R_040 + 3*Q_004*R_040 + 3/2*R_040^2)*y*z^2\n",
      "                + (-12*P_004 - 12*P_040 + 6*Q_004 + 6*R_040)*x*y*z^2 + (3*P_004 + 3*P_040 - 3/2*Q_004 - 51/2*R_040)*y^2*z^2\n",
      "                + ... )\n",
      "z + y^2*z^6 * ( - 2*P_004 - 2*P_040 + 2*R_040 + R_004\n",
      "                + 2*x + y\n",
      "                + (-2*P_004 - 2*P_040 + Q_004 + 7*R_040 + 2*R_004)*y*z\n",
      "                + 2*x*y*z + 1/8*y^2*z + (-3*P_004^2 - 6*P_004*P_040 - 3*P_040^2 + 3*P_004*Q_004 + 3*P_040*Q_004 - 3/4*Q_004^2 + 3*P_004*R_040 + 3*P_040*R_040 - 3/2*Q_004*R_040 - 3/4*R_040^2)*y*z^2\n",
      "                + (6*P_004 + 6*P_040 - 3*Q_004 - 3*R_040)*x*y*z^2 + (-P_004 - P_040 + 1/2*Q_004 + 29/2*R_040)*y^2*z^2\n",
      "                + ... )\n",
      "\n",
      "\n",
      "*** Common factor of terms from degree [9, 11, 11] by component\n",
      "*** Excluding the common factors [y^2*z^4, y^3*z^5, y^2*z^6]\n",
      "\n",
      "In the x component: y*z\n",
      "In the y component: y*z\n",
      "In the z component: y*z\n"
     ]
    }
   ],
   "source": [
    "print('***** Blow-up at p3,2 - z-chart')\n",
    "X5_p32_1_z=X5_p32_1.blowup([0,0,0],3,out_map=True)\n",
    "X5_p32_1_z.print_ttti_exp([0,0,0],12,rem_fact=True,sep_fact=True)"
   ]
  },
  {
   "cell_type": "markdown",
   "metadata": {},
   "source": [
    "### Change of coordinates at q1"
   ]
  },
  {
   "cell_type": "code",
   "execution_count": 26,
   "metadata": {},
   "outputs": [
    {
     "name": "stdout",
     "output_type": "stream",
     "text": [
      "*** Expansion around the point [0, 0, 0] up to order 16\n",
      "\n",
      "x + y^7*z^2 * (   x\n",
      "                + (-2)*x^2 + R_040*x*z + R_040^2*z^2\n",
      "                + x*y^2 + (-2*P_040)*x*y*z + 3*R_040*y^2*z + (-P_040*R_040)*y*z^2\n",
      "                - x^2*y^2 + 2*R_040*x*y^2*z + (-R_040^2)*y^2*z^2\n",
      "                + 2*x^3*y^2 + (-3*R_040)*x^2*y^2*z + R_040^3*y^2*z^3\n",
      "                - x^3*y^4 + (-R_040)*x^2*y^4*z + 5*R_040^2*x*y^4*z^2 + (-3*R_040^3)*y^4*z^3\n",
      "                + ... )\n",
      "y + y^8*z^2 * (   x + (-R_040)*z\n",
      "                - y^2 + P_040*y*z\n",
      "                - x^2*y^2 + 2*R_040*x*y^2*z + (-R_040^2)*y^2*z^2\n",
      "                + x^2*y^4 + (-2*R_040)*x*y^4*z + R_040^2*y^4*z^2\n",
      "                + ... )\n",
      "z + y^7*z^3 * (   (-3)*x + 3*R_040*z\n",
      "                + 4*y^2 + (-3*P_040)*y*z\n",
      "                + 3*x^2*y^2 + (-6*R_040)*x*y^2*z + 3*R_040^2*y^2*z^2\n",
      "                + (-4)*x^2*y^4 + 8*R_040*x*y^4*z + (-4*R_040^2)*y^4*z^2\n",
      "                + ... )\n",
      "\n",
      "\n",
      "*** Common factor of terms from degree [12, 13, 13] by component\n",
      "*** Excluding the common factors [y^7*z^2, y^8*z^2, y^7*z^3]\n",
      "\n",
      "In the x component: y\n",
      "In the y component: x^2*y^2 + (-2*R_040)*x*y^2*z + R_040^2*y^2*z^2\n",
      "In the z component: x^2*y^2 + (-2*R_040)*x*y^2*z + R_040^2*y^2*z^2\n"
     ]
    }
   ],
   "source": [
    "M=Matrix([[0,R_040,1],[1,0,0],[0,1,0]]).inverse()\n",
    "X4_xy_1=X4_xy.lin_change([0,0,0],M,out_map=True)\n",
    "X4_xy_1.print_ttti_exp([0,0,0],16,rem_fact=True,sep_fact=True)"
   ]
  },
  {
   "cell_type": "code",
   "execution_count": null,
   "metadata": {},
   "outputs": [],
   "source": []
  }
 ],
 "metadata": {
  "kernelspec": {
   "display_name": "SageMath 9.3",
   "language": "sage",
   "name": "sagemath"
  },
  "language_info": {
   "codemirror_mode": {
    "name": "ipython",
    "version": 3
   },
   "file_extension": ".py",
   "mimetype": "text/x-python",
   "name": "python",
   "nbconvert_exporter": "python",
   "pygments_lexer": "ipython3",
   "version": "3.7.10"
  }
 },
 "nbformat": 4,
 "nbformat_minor": 4
}
